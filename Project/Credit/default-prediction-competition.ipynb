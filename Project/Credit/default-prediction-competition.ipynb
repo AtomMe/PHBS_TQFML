{
 "cells": [
  {
   "cell_type": "markdown",
   "metadata": {},
   "source": [
    "# Predicting defaulting on credit card applications"
   ]
  },
  {
   "cell_type": "markdown",
   "metadata": {},
   "source": [
    "When customers come in financial difficulties, it usually does not happen at once. There are indicators which can be used to anticipate the final outcome, such as late payments, calls to the customer services, enquiries about the products, a different browsing pattern on the web or mobile app. By using such patterns it is possible to prevent, or at least guide the process and provide a better service for the customer as well as reduced risks for the bank.\n",
    "\n",
    "In this tutorial we will look at how to predict defaulting, using statistics, machine learning and deep learning. We we also look at how to summarize the data using topological data analysis (TDA). Finally we will look at how to APIfy the model and use it for account alerting."
   ]
  },
  {
   "cell_type": "markdown",
   "metadata": {},
   "source": [
    "#### Imports"
   ]
  },
  {
   "cell_type": "code",
   "execution_count": 1,
   "metadata": {
    "collapsed": false
   },
   "outputs": [],
   "source": [
    "\n",
    "#data explore\n",
    "import numpy as np\n",
    "\n",
    "# dataframes in python\n",
    "import pandas as pd"
   ]
  },
  {
   "cell_type": "code",
   "execution_count": 2,
   "metadata": {
    "collapsed": true
   },
   "outputs": [],
   "source": [
    "%matplotlib inline\n",
    "import matplotlib.pyplot as plt\n",
    "\n",
    "#defaults\n",
    "plt.rcParams['figure.figsize'] = (20.0, 20.0)\n",
    "plt.rcParams.update({'font.size': 10})\n",
    "plt.rcParams['xtick.major.pad']='5'\n",
    "plt.rcParams['ytick.major.pad']='5'\n",
    "\n",
    "plt.style.use('ggplot')"
   ]
  },
  {
   "cell_type": "markdown",
   "metadata": {},
   "source": [
    "#### Data preparation\n",
    "I read the data from the raw csv which is the competition dataset"
   ]
  },
  {
   "cell_type": "code",
   "execution_count": 29,
   "metadata": {
    "collapsed": false
   },
   "outputs": [],
   "source": [
    "model_sample = pd.read_csv(\"./data/model_sample.csv\") #this data is to train the model\n",
    "verify_sample= pd.read_csv(\"./data/verify_sample.csv\") #this data is test data\n"
   ]
  },
  {
   "cell_type": "code",
   "execution_count": 30,
   "metadata": {
    "collapsed": false
   },
   "outputs": [
    {
     "data": {
      "text/html": [
       "<div>\n",
       "<style scoped>\n",
       "    .dataframe tbody tr th:only-of-type {\n",
       "        vertical-align: middle;\n",
       "    }\n",
       "\n",
       "    .dataframe tbody tr th {\n",
       "        vertical-align: top;\n",
       "    }\n",
       "\n",
       "    .dataframe thead th {\n",
       "        text-align: right;\n",
       "    }\n",
       "</style>\n",
       "<table border=\"1\" class=\"dataframe\">\n",
       "  <thead>\n",
       "    <tr style=\"text-align: right;\">\n",
       "      <th></th>\n",
       "      <th>user_id</th>\n",
       "      <th>y</th>\n",
       "      <th>x_001</th>\n",
       "      <th>x_002</th>\n",
       "      <th>x_003</th>\n",
       "      <th>x_004</th>\n",
       "      <th>x_005</th>\n",
       "      <th>x_006</th>\n",
       "      <th>x_007</th>\n",
       "      <th>x_008</th>\n",
       "      <th>...</th>\n",
       "      <th>x_190</th>\n",
       "      <th>x_191</th>\n",
       "      <th>x_192</th>\n",
       "      <th>x_193</th>\n",
       "      <th>x_194</th>\n",
       "      <th>x_195</th>\n",
       "      <th>x_196</th>\n",
       "      <th>x_197</th>\n",
       "      <th>x_198</th>\n",
       "      <th>x_199</th>\n",
       "    </tr>\n",
       "  </thead>\n",
       "  <tbody>\n",
       "    <tr>\n",
       "      <th>10013</th>\n",
       "      <td>A21934</td>\n",
       "      <td>0</td>\n",
       "      <td>0.0</td>\n",
       "      <td>29.0</td>\n",
       "      <td>0</td>\n",
       "      <td>0</td>\n",
       "      <td>0</td>\n",
       "      <td>0</td>\n",
       "      <td>0</td>\n",
       "      <td>0</td>\n",
       "      <td>...</td>\n",
       "      <td>NaN</td>\n",
       "      <td>NaN</td>\n",
       "      <td>NaN</td>\n",
       "      <td>NaN</td>\n",
       "      <td>NaN</td>\n",
       "      <td>NaN</td>\n",
       "      <td>NaN</td>\n",
       "      <td>NaN</td>\n",
       "      <td>NaN</td>\n",
       "      <td>NaN</td>\n",
       "    </tr>\n",
       "    <tr>\n",
       "      <th>10014</th>\n",
       "      <td>A21936</td>\n",
       "      <td>1</td>\n",
       "      <td>0.0</td>\n",
       "      <td>25.0</td>\n",
       "      <td>0</td>\n",
       "      <td>0</td>\n",
       "      <td>0</td>\n",
       "      <td>0</td>\n",
       "      <td>0</td>\n",
       "      <td>0</td>\n",
       "      <td>...</td>\n",
       "      <td>3.0</td>\n",
       "      <td>3.0</td>\n",
       "      <td>3.0</td>\n",
       "      <td>3.0</td>\n",
       "      <td>5.0</td>\n",
       "      <td>5.0</td>\n",
       "      <td>4.0</td>\n",
       "      <td>4.0</td>\n",
       "      <td>7.0</td>\n",
       "      <td>7.0</td>\n",
       "    </tr>\n",
       "    <tr>\n",
       "      <th>10015</th>\n",
       "      <td>A21938</td>\n",
       "      <td>0</td>\n",
       "      <td>0.0</td>\n",
       "      <td>28.0</td>\n",
       "      <td>0</td>\n",
       "      <td>0</td>\n",
       "      <td>0</td>\n",
       "      <td>0</td>\n",
       "      <td>0</td>\n",
       "      <td>0</td>\n",
       "      <td>...</td>\n",
       "      <td>0.0</td>\n",
       "      <td>0.0</td>\n",
       "      <td>0.0</td>\n",
       "      <td>0.0</td>\n",
       "      <td>0.0</td>\n",
       "      <td>0.0</td>\n",
       "      <td>0.0</td>\n",
       "      <td>0.0</td>\n",
       "      <td>0.0</td>\n",
       "      <td>0.0</td>\n",
       "    </tr>\n",
       "    <tr>\n",
       "      <th>10016</th>\n",
       "      <td>A21940</td>\n",
       "      <td>0</td>\n",
       "      <td>0.0</td>\n",
       "      <td>23.0</td>\n",
       "      <td>0</td>\n",
       "      <td>0</td>\n",
       "      <td>0</td>\n",
       "      <td>0</td>\n",
       "      <td>0</td>\n",
       "      <td>0</td>\n",
       "      <td>...</td>\n",
       "      <td>1.0</td>\n",
       "      <td>0.0</td>\n",
       "      <td>3.0</td>\n",
       "      <td>1.0</td>\n",
       "      <td>5.0</td>\n",
       "      <td>1.0</td>\n",
       "      <td>3.0</td>\n",
       "      <td>1.0</td>\n",
       "      <td>7.0</td>\n",
       "      <td>1.0</td>\n",
       "    </tr>\n",
       "    <tr>\n",
       "      <th>10017</th>\n",
       "      <td>A21941</td>\n",
       "      <td>1</td>\n",
       "      <td>0.0</td>\n",
       "      <td>35.0</td>\n",
       "      <td>0</td>\n",
       "      <td>0</td>\n",
       "      <td>0</td>\n",
       "      <td>0</td>\n",
       "      <td>0</td>\n",
       "      <td>0</td>\n",
       "      <td>...</td>\n",
       "      <td>1.0</td>\n",
       "      <td>1.0</td>\n",
       "      <td>1.0</td>\n",
       "      <td>1.0</td>\n",
       "      <td>1.0</td>\n",
       "      <td>1.0</td>\n",
       "      <td>1.0</td>\n",
       "      <td>1.0</td>\n",
       "      <td>1.0</td>\n",
       "      <td>1.0</td>\n",
       "    </tr>\n",
       "  </tbody>\n",
       "</table>\n",
       "<p>5 rows × 201 columns</p>\n",
       "</div>"
      ],
      "text/plain": [
       "      user_id  y  x_001  x_002  x_003  x_004  x_005  x_006  x_007  x_008  \\\n",
       "10013  A21934  0    0.0   29.0      0      0      0      0      0      0   \n",
       "10014  A21936  1    0.0   25.0      0      0      0      0      0      0   \n",
       "10015  A21938  0    0.0   28.0      0      0      0      0      0      0   \n",
       "10016  A21940  0    0.0   23.0      0      0      0      0      0      0   \n",
       "10017  A21941  1    0.0   35.0      0      0      0      0      0      0   \n",
       "\n",
       "       ...    x_190  x_191  x_192  x_193  x_194  x_195  x_196  x_197  x_198  \\\n",
       "10013  ...      NaN    NaN    NaN    NaN    NaN    NaN    NaN    NaN    NaN   \n",
       "10014  ...      3.0    3.0    3.0    3.0    5.0    5.0    4.0    4.0    7.0   \n",
       "10015  ...      0.0    0.0    0.0    0.0    0.0    0.0    0.0    0.0    0.0   \n",
       "10016  ...      1.0    0.0    3.0    1.0    5.0    1.0    3.0    1.0    7.0   \n",
       "10017  ...      1.0    1.0    1.0    1.0    1.0    1.0    1.0    1.0    1.0   \n",
       "\n",
       "       x_199  \n",
       "10013    NaN  \n",
       "10014    7.0  \n",
       "10015    0.0  \n",
       "10016    1.0  \n",
       "10017    1.0  \n",
       "\n",
       "[5 rows x 201 columns]"
      ]
     },
     "execution_count": 30,
     "metadata": {},
     "output_type": "execute_result"
    }
   ],
   "source": [
    "model_sample.tail()"
   ]
  },
  {
   "cell_type": "markdown",
   "metadata": {},
   "source": [
    "### process missing value"
   ]
  },
  {
   "cell_type": "markdown",
   "metadata": {},
   "source": [
    "the code is here([missing_data_process](./missing_data_process.ipynb))"
   ]
  },
  {
   "cell_type": "markdown",
   "metadata": {
    "collapsed": false
   },
   "source": [
    "### Read the processed data\n",
    "from csv file(model_sample_nomissing.csv)"
   ]
  },
  {
   "cell_type": "code",
   "execution_count": 3,
   "metadata": {
    "collapsed": false
   },
   "outputs": [],
   "source": [
    "clean_data = pd.read_csv('model_sample_nomissing.csv',index_col=0)"
   ]
  },
  {
   "cell_type": "code",
   "execution_count": 4,
   "metadata": {
    "collapsed": false
   },
   "outputs": [
    {
     "data": {
      "text/html": [
       "<div>\n",
       "<style scoped>\n",
       "    .dataframe tbody tr th:only-of-type {\n",
       "        vertical-align: middle;\n",
       "    }\n",
       "\n",
       "    .dataframe tbody tr th {\n",
       "        vertical-align: top;\n",
       "    }\n",
       "\n",
       "    .dataframe thead th {\n",
       "        text-align: right;\n",
       "    }\n",
       "</style>\n",
       "<table border=\"1\" class=\"dataframe\">\n",
       "  <thead>\n",
       "    <tr style=\"text-align: right;\">\n",
       "      <th></th>\n",
       "      <th>y</th>\n",
       "      <th>x_001</th>\n",
       "      <th>x_002</th>\n",
       "      <th>x_003</th>\n",
       "      <th>x_004</th>\n",
       "      <th>x_005</th>\n",
       "      <th>x_006</th>\n",
       "      <th>x_007</th>\n",
       "      <th>x_008</th>\n",
       "      <th>x_009</th>\n",
       "      <th>...</th>\n",
       "      <th>x_190</th>\n",
       "      <th>x_191</th>\n",
       "      <th>x_192</th>\n",
       "      <th>x_193</th>\n",
       "      <th>x_194</th>\n",
       "      <th>x_195</th>\n",
       "      <th>x_196</th>\n",
       "      <th>x_197</th>\n",
       "      <th>x_198</th>\n",
       "      <th>x_199</th>\n",
       "    </tr>\n",
       "  </thead>\n",
       "  <tbody>\n",
       "    <tr>\n",
       "      <th>10013</th>\n",
       "      <td>0</td>\n",
       "      <td>0.0</td>\n",
       "      <td>29.0</td>\n",
       "      <td>0</td>\n",
       "      <td>0</td>\n",
       "      <td>0</td>\n",
       "      <td>0</td>\n",
       "      <td>0</td>\n",
       "      <td>0</td>\n",
       "      <td>0</td>\n",
       "      <td>...</td>\n",
       "      <td>0.0</td>\n",
       "      <td>0.0</td>\n",
       "      <td>2.0</td>\n",
       "      <td>2.0</td>\n",
       "      <td>3.0</td>\n",
       "      <td>2.0</td>\n",
       "      <td>4.0</td>\n",
       "      <td>4.0</td>\n",
       "      <td>6.0</td>\n",
       "      <td>6.0</td>\n",
       "    </tr>\n",
       "    <tr>\n",
       "      <th>10014</th>\n",
       "      <td>1</td>\n",
       "      <td>0.0</td>\n",
       "      <td>25.0</td>\n",
       "      <td>0</td>\n",
       "      <td>0</td>\n",
       "      <td>0</td>\n",
       "      <td>0</td>\n",
       "      <td>0</td>\n",
       "      <td>0</td>\n",
       "      <td>0</td>\n",
       "      <td>...</td>\n",
       "      <td>3.0</td>\n",
       "      <td>3.0</td>\n",
       "      <td>3.0</td>\n",
       "      <td>3.0</td>\n",
       "      <td>5.0</td>\n",
       "      <td>5.0</td>\n",
       "      <td>4.0</td>\n",
       "      <td>4.0</td>\n",
       "      <td>7.0</td>\n",
       "      <td>7.0</td>\n",
       "    </tr>\n",
       "    <tr>\n",
       "      <th>10015</th>\n",
       "      <td>0</td>\n",
       "      <td>0.0</td>\n",
       "      <td>28.0</td>\n",
       "      <td>0</td>\n",
       "      <td>0</td>\n",
       "      <td>0</td>\n",
       "      <td>0</td>\n",
       "      <td>0</td>\n",
       "      <td>0</td>\n",
       "      <td>0</td>\n",
       "      <td>...</td>\n",
       "      <td>0.0</td>\n",
       "      <td>0.0</td>\n",
       "      <td>0.0</td>\n",
       "      <td>0.0</td>\n",
       "      <td>0.0</td>\n",
       "      <td>0.0</td>\n",
       "      <td>0.0</td>\n",
       "      <td>0.0</td>\n",
       "      <td>0.0</td>\n",
       "      <td>0.0</td>\n",
       "    </tr>\n",
       "    <tr>\n",
       "      <th>10016</th>\n",
       "      <td>0</td>\n",
       "      <td>0.0</td>\n",
       "      <td>23.0</td>\n",
       "      <td>0</td>\n",
       "      <td>0</td>\n",
       "      <td>0</td>\n",
       "      <td>0</td>\n",
       "      <td>0</td>\n",
       "      <td>0</td>\n",
       "      <td>0</td>\n",
       "      <td>...</td>\n",
       "      <td>1.0</td>\n",
       "      <td>0.0</td>\n",
       "      <td>3.0</td>\n",
       "      <td>1.0</td>\n",
       "      <td>5.0</td>\n",
       "      <td>1.0</td>\n",
       "      <td>3.0</td>\n",
       "      <td>1.0</td>\n",
       "      <td>7.0</td>\n",
       "      <td>1.0</td>\n",
       "    </tr>\n",
       "    <tr>\n",
       "      <th>10017</th>\n",
       "      <td>1</td>\n",
       "      <td>0.0</td>\n",
       "      <td>35.0</td>\n",
       "      <td>0</td>\n",
       "      <td>0</td>\n",
       "      <td>0</td>\n",
       "      <td>0</td>\n",
       "      <td>0</td>\n",
       "      <td>0</td>\n",
       "      <td>0</td>\n",
       "      <td>...</td>\n",
       "      <td>1.0</td>\n",
       "      <td>1.0</td>\n",
       "      <td>1.0</td>\n",
       "      <td>1.0</td>\n",
       "      <td>1.0</td>\n",
       "      <td>1.0</td>\n",
       "      <td>1.0</td>\n",
       "      <td>1.0</td>\n",
       "      <td>1.0</td>\n",
       "      <td>1.0</td>\n",
       "    </tr>\n",
       "  </tbody>\n",
       "</table>\n",
       "<p>5 rows × 118 columns</p>\n",
       "</div>"
      ],
      "text/plain": [
       "       y  x_001  x_002  x_003  x_004  x_005  x_006  x_007  x_008  x_009  \\\n",
       "10013  0    0.0   29.0      0      0      0      0      0      0      0   \n",
       "10014  1    0.0   25.0      0      0      0      0      0      0      0   \n",
       "10015  0    0.0   28.0      0      0      0      0      0      0      0   \n",
       "10016  0    0.0   23.0      0      0      0      0      0      0      0   \n",
       "10017  1    0.0   35.0      0      0      0      0      0      0      0   \n",
       "\n",
       "       ...    x_190  x_191  x_192  x_193  x_194  x_195  x_196  x_197  x_198  \\\n",
       "10013  ...      0.0    0.0    2.0    2.0    3.0    2.0    4.0    4.0    6.0   \n",
       "10014  ...      3.0    3.0    3.0    3.0    5.0    5.0    4.0    4.0    7.0   \n",
       "10015  ...      0.0    0.0    0.0    0.0    0.0    0.0    0.0    0.0    0.0   \n",
       "10016  ...      1.0    0.0    3.0    1.0    5.0    1.0    3.0    1.0    7.0   \n",
       "10017  ...      1.0    1.0    1.0    1.0    1.0    1.0    1.0    1.0    1.0   \n",
       "\n",
       "       x_199  \n",
       "10013    6.0  \n",
       "10014    7.0  \n",
       "10015    0.0  \n",
       "10016    1.0  \n",
       "10017    1.0  \n",
       "\n",
       "[5 rows x 118 columns]"
      ]
     },
     "execution_count": 4,
     "metadata": {},
     "output_type": "execute_result"
    }
   ],
   "source": [
    "clean_data.tail()"
   ]
  },
  {
   "cell_type": "code",
   "execution_count": 5,
   "metadata": {
    "collapsed": false
   },
   "outputs": [],
   "source": [
    "columns_name = clean_data.columns"
   ]
  },
  {
   "cell_type": "markdown",
   "metadata": {},
   "source": [
    "### Feature engineering\n",
    "\n",
    "It's not about blind feature conversion to values between 0 and 1, it's about understanding data. In this case we see that money they exibits a log distribution, so first off, I am going to take the log of the money."
   ]
  },
  {
   "cell_type": "code",
   "execution_count": 6,
   "metadata": {
    "collapsed": false
   },
   "outputs": [],
   "source": [
    "# help func\n",
    "# select those need log\n",
    "def selcols():\n",
    "    colnames = []\n",
    "    colnames.extend(['x_041','x_043','x_044','x_045','x_046','x_047'])\n",
    "    colnames.extend(['x_052','x_053','x_054','x_055','x_057','x_058','x_059'])\n",
    "    colnames.extend(['x_060','x_061','x_064','x_067'])\n",
    "    colnames.extend(['x_070','x_073','x_078','x_079'])\n",
    "    colnames.extend(['x_080','x_085','x_086','x_087'])\n",
    "    colnames.extend(['x_108','x_111','x_114','x_117','x_120','x_125','x_126','x_127'])\n",
    "    colnames.extend(['x_130','x_131','x_133','x_135','x_136','x_138'])\n",
    "    colnames.extend(['x_140','x_141','x_143','x_145','x_146','x_147','x_148'])\n",
    "    colnames.extend(['x_159','x_160','x_161','x_172','x_173','x_174'])\n",
    "    colnames.extend(['x_185','x_186','x_187'])\n",
    "    return colnames"
   ]
  },
  {
   "cell_type": "code",
   "execution_count": 7,
   "metadata": {
    "collapsed": false
   },
   "outputs": [],
   "source": [
    "# generate the new dataset by log\n",
    "colindex = selcols()\n",
    "for col in colindex:\n",
    "    if col in columns_name:\n",
    "        clean_data[col] = clean_data[col].apply(lambda x: np.log(x+1) if x>0 else 0) \n",
    "        #verify_sample[col] = verify_sample[col].apply(lambda x: np.log(x+1) if x>0 else 0)"
   ]
  },
  {
   "cell_type": "markdown",
   "metadata": {},
   "source": [
    "### Seperate the labels and input variables"
   ]
  },
  {
   "cell_type": "code",
   "execution_count": 8,
   "metadata": {
    "collapsed": false
   },
   "outputs": [],
   "source": [
    "y = clean_data.iloc[:, 0]\n",
    "X = clean_data.iloc[:,1:]\n",
    "#verify_X = verify_sample.iloc[:,1:]"
   ]
  },
  {
   "cell_type": "markdown",
   "metadata": {},
   "source": [
    "### Feature scaling\n",
    "* MinMaxScaler\n",
    "* StandardScaler N(0,1)\n",
    "* RobustScaler avoid outliers.\n"
   ]
  },
  {
   "cell_type": "code",
   "execution_count": 9,
   "metadata": {
    "collapsed": true
   },
   "outputs": [],
   "source": [
    "# three diffrent methods\n",
    "#- MinMaxScaler\n",
    "#- StandardScaler N(0,1)\n",
    "#- RobustScaler avoid outliers.\n",
    "\n",
    "#- X_test's standardization should use the mean and std of X_train\n",
    "\n",
    "def MinMaxNorm(X_train,X_test):\n",
    "    from sklearn.preprocessing import MinMaxScaler\n",
    "\n",
    "    mms = MinMaxScaler().fit(X_train)\n",
    "    X_train_norm = mms.transform(X_train)\n",
    "    X_test_norm = mms.transform(X_test)\n",
    "    return X_train_norm,X_test_norm\n",
    "\n",
    "def StdNorm(X_train,X_test):\n",
    "    from sklearn.preprocessing import StandardScaler\n",
    "\n",
    "    stdsc = StandardScaler().fit(X_train)\n",
    "    X_train_std = stdsc.transform(X_train)\n",
    "    X_test_std = stdsc.transform(X_test)\n",
    "    return X_train_std,X_test_std\n",
    "\n",
    "def RobustNorm(X_train,X_test):\n",
    "    from sklearn.preprocessing import RobustScaler\n",
    "\n",
    "    rbs = RobustScaler().fit(X_train)\n",
    "    X_train_std = rbs.transform(X_train)\n",
    "    X_test_std = rbs.transform(X_test)\n",
    "    return X_train_std,X_test_std\n"
   ]
  },
  {
   "cell_type": "code",
   "execution_count": 18,
   "metadata": {
    "collapsed": false
   },
   "outputs": [],
   "source": [
    "# here you should notice that the X_test's standardization should use the train data's method\n",
    "from sklearn.model_selection import train_test_split\n",
    "\n",
    "X_train, X_test, y_train, y_test = train_test_split(X, y, test_size=0.2, random_state=42)\n",
    "X_train, X_test = RobustNorm(X_train, X_test)\n",
    "#X_train = X_prep\n",
    "#y_train = y"
   ]
  },
  {
   "cell_type": "code",
   "execution_count": null,
   "metadata": {
    "collapsed": false
   },
   "outputs": [],
   "source": []
  },
  {
   "cell_type": "markdown",
   "metadata": {},
   "source": [
    "### Whether data label is balanced or not? \n",
    "#### Explore Defaulting\n",
    "\n",
    "First off, let's start with a zoomed out view on the problem.  \n",
    "We want to predict defaulting, Let's answer the following question:\n",
    "\n",
    "  - how many cases do we have on our dataset to work with? \n",
    "\n",
    "We can see that the data labels are imbalaned.\n",
    "defaulting accounts are 19% and no-defaulting accounts are 81%"
   ]
  },
  {
   "cell_type": "code",
   "execution_count": 11,
   "metadata": {
    "collapsed": false
   },
   "outputs": [
    {
     "name": "stdout",
     "output_type": "stream",
     "text": [
      "defaulting accounts are 19% out of 10018 observations\n"
     ]
    },
    {
     "data": {
      "image/png": "[encoded data removed]",
      "text/plain": [
       "<matplotlib.figure.Figure at 0xe028ab0>"
      ]
     },
     "metadata": {},
     "output_type": "display_data"
    }
   ],
   "source": [
    "fig = plt.figure()\n",
    "fig.set_size_inches(5,5)\n",
    "d = clean_data.groupby(['y']).size()\n",
    "\n",
    "print(\"defaulting accounts are {}% out of {} observations\".format(100* d[1]/(d[1]+d[0]), d[1]+d[0]))\n",
    "p = d.plot(kind='barh', color='blue')"
   ]
  },
  {
   "cell_type": "code",
   "execution_count": null,
   "metadata": {
    "collapsed": true
   },
   "outputs": [],
   "source": []
  },
  {
   "cell_type": "markdown",
   "metadata": {
    "collapsed": true
   },
   "source": [
    "### Resampling\n",
    "* RandomOverSampler\n",
    "    * Object to over-sample the minority class(es) by picking samples at random with replacement.\n",
    "* SMOTE\n",
    "    * SMOTE is an oversampling method. It works by creating synthetic samples from the minor class instead of creating copies. The algorithm selects two or more similar instances (using a distance measure) and perturbing an instance one attribute at a time by a random amount within the difference to the neighboring instances.\n",
    "    \n",
    "    Learn more about SMOTE, see the original 2002 paper titled [\"SMOTE: Synthetic Minority Over-sampling Technique\"](https://jair.org/index.php/jair/article/view/10302).\n",
    "* ADASYN\n",
    "    * [Perform over-sampling using Adaptive Synthetic Sampling Approach for Imbalanced Learning](http://140.123.102.14:8080/reportSys/file/paper/manto/manto_6_paper.pdf)\n",
    "\n",
    "* SMOTETomek\n",
    "    * Class to perform over-sampling using SMOTE and cleaning using Tomek links.Combine over- and under-sampling using SMOTE and Tomek links.\n",
    "* SMOTEENN\n",
    "    * Class to perform over-sampling using SMOTE and cleaning using ENN.Combine over- and under-sampling using SMOTE and Edited Nearest Neighbours.\n",
    "    \n",
    "    \n",
    "You can also check these methods from python [imbalanced-learn](http://contrib.scikit-learn.org/imbalanced-learn/stable/auto_examples/applications/plot_topic_classication.html) package\n"
   ]
  },
  {
   "cell_type": "code",
   "execution_count": 17,
   "metadata": {
    "collapsed": false
   },
   "outputs": [],
   "source": [
    "# Resampling functions\n",
    "from imblearn.over_sampling import RandomOverSampler,ADASYN,SMOTE\n",
    "from imblearn.combine import SMOTETomek,SMOTEENN\n",
    "\n",
    "# Apply RandomOverSampler\n",
    "def my_RandomOverSampler(X_train,y_train):\n",
    "    sm = RandomOverSampler()\n",
    "    X_resampled, y_resampled = sm.fit_sample(X_train, y_train)\n",
    "    return X_resampled, y_resampled\n",
    "\n",
    "# Apply SMOTE\n",
    "def my_SMOTE(X_train,y_train):\n",
    "    sm = SMOTE()\n",
    "    X_resampled, y_resampled = sm.fit_sample(X_train, y_train)\n",
    "    return X_resampled, y_resampled\n",
    "\n",
    "# Apply ADASYN\n",
    "def my_ADASYN(X_train,y_train):\n",
    "    sm = ADASYN()\n",
    "    X_resampled, y_resampled = sm.fit_sample(X_train, y_train)\n",
    "    return X_resampled, y_resampled\n",
    "\n",
    "# Apply SMOTE + Tomek links\n",
    "def my_SMOTETomek(X_train,y_train):\n",
    "    sm = SMOTETomek()\n",
    "    X_resampled, y_resampled = sm.fit_sample(X_train, y_train)\n",
    "    return X_resampled, y_resampled\n",
    "\n",
    "# Apply SMOTE + ENN\n",
    "def my_SMOTEENN(X_train,y_train):\n",
    "    sm = SMOTEENN()\n",
    "    X_resampled, y_resampled = sm.fit_sample(X, y)\n",
    "    return X_resampled, y_resampled"
   ]
  },
  {
   "cell_type": "code",
   "execution_count": 25,
   "metadata": {
    "collapsed": false
   },
   "outputs": [],
   "source": [
    "X_resample,y_resample = my_SMOTEENN(X_train,y_train)"
   ]
  },
  {
   "cell_type": "markdown",
   "metadata": {},
   "source": [
    "##### train dataset is increased through resampling"
   ]
  },
  {
   "cell_type": "code",
   "execution_count": 28,
   "metadata": {
    "collapsed": false
   },
   "outputs": [
    {
     "name": "stdout",
     "output_type": "stream",
     "text": [
      "(11714, 8014)\n"
     ]
    }
   ],
   "source": [
    "print(len(X_resample),len(X_train))"
   ]
  },
  {
   "cell_type": "markdown",
   "metadata": {},
   "source": [
    "#### Feature selection\n",
    "* Too many features may cause overfitting\n",
    "* Here we reduce the features by assessing feature importance with random forests\n",
    "* Also,There are no need to reduce the features for some machine learning method. We can apply other method to control overfitting.eg. dropout for DNN"
   ]
  },
  {
   "cell_type": "code",
   "execution_count": 30,
   "metadata": {
    "collapsed": false
   },
   "outputs": [
    {
     "name": "stdout",
     "output_type": "stream",
     "text": [
      " 1) x_142                          0.040847\n",
      " 2) x_056                          0.038740\n",
      " 3) x_191                          0.034667\n",
      " 4) x_122                          0.033473\n",
      " 5) x_190                          0.029487\n",
      " 6) x_188                          0.029354\n",
      " 7) x_189                          0.028788\n",
      " 8) x_042                          0.027681\n",
      " 9) x_192                          0.026253\n",
      "10) x_075                          0.026155\n",
      "11) x_144                          0.025139\n",
      "12) x_139                          0.024176\n",
      "13) x_193                          0.022522\n",
      "14) x_195                          0.022082\n",
      "15) x_132                          0.020932\n",
      "16) x_194                          0.020285\n",
      "17) x_127                          0.018444\n",
      "18) x_137                          0.017611\n",
      "19) x_134                          0.017454\n",
      "20) x_125                          0.016868\n",
      "21) x_078                          0.016417\n",
      "22) x_059                          0.015738\n",
      "23) x_045                          0.015642\n",
      "24) x_121                          0.014576\n",
      "25) x_150                          0.012068\n",
      "26) x_199                          0.011771\n",
      "27) x_131                          0.011177\n",
      "28) x_046                          0.010844\n",
      "29) x_002                          0.010812\n",
      "30) x_055                          0.010760\n",
      "31) x_154                          0.010668\n",
      "32) x_079                          0.010487\n",
      "33) x_074                          0.009856\n",
      "34) x_197                          0.009821\n",
      "35) x_126                          0.009154\n",
      "36) x_198                          0.009136\n",
      "37) x_060                          0.009092\n",
      "38) x_020                          0.008049\n",
      "39) x_080                          0.008025\n",
      "40) x_003                          0.007884\n",
      "41) x_196                          0.007605\n",
      "42) x_021                          0.007366\n",
      "43) x_041                          0.007338\n",
      "44) x_163                          0.007311\n",
      "45) x_123                          0.007272\n",
      "46) x_035                          0.006984\n",
      "47) x_076                          0.006850\n",
      "48) x_043                          0.006770\n",
      "49) x_034                          0.006705\n",
      "50) x_057                          0.006573\n",
      "51) x_061                          0.006228\n",
      "52) x_047                          0.006225\n",
      "53) x_124                          0.005933\n",
      "54) x_167                          0.005885\n",
      "55) x_162                          0.005721\n",
      "56) x_033                          0.005428\n",
      "57) x_026                          0.005393\n",
      "58) x_044                          0.005231\n",
      "59) x_153                          0.005200\n",
      "60) x_031                          0.005126\n",
      "61) x_175                          0.005107\n",
      "62) x_180                          0.004938\n",
      "63) x_025                          0.004893\n",
      "64) x_077                          0.004889\n",
      "65) x_179                          0.004853\n",
      "66) x_058                          0.004757\n",
      "67) x_030                          0.004536\n",
      "68) x_176                          0.004413\n",
      "69) x_166                          0.004256\n",
      "70) x_018                          0.004067\n",
      "71) x_184                          0.004042\n",
      "72) x_183                          0.003976\n",
      "73) x_027                          0.003973\n",
      "74) x_182                          0.003937\n",
      "75) x_181                          0.003812\n",
      "76) x_168                          0.003655\n",
      "77) x_149                          0.003637\n",
      "78) x_029                          0.003577\n",
      "79) x_170                          0.003419\n",
      "80) x_014                          0.003315\n",
      "81) x_157                          0.003228\n",
      "82) x_169                          0.003048\n",
      "83) x_165                          0.003035\n",
      "84) x_171                          0.003025\n",
      "85) x_178                          0.002902\n",
      "86) x_155                          0.002685\n",
      "87) x_177                          0.002638\n",
      "88) x_024                          0.002567\n",
      "89) x_036                          0.002518\n",
      "90) x_151                          0.002406\n",
      "91) x_156                          0.002365\n",
      "92) x_164                          0.002188\n",
      "93) x_032                          0.002125\n",
      "94) x_001                          0.001997\n",
      "95) x_158                          0.001809\n",
      "96) x_152                          0.001711\n",
      "97) x_004                          0.001176\n",
      "98) x_016                          0.001140\n",
      "99) x_038                          0.000574\n",
      "100) x_023                          0.000502\n",
      "101) x_037                          0.000381\n",
      "102) x_040                          0.000351\n",
      "103) x_009                          0.000282\n",
      "104) x_006                          0.000262\n",
      "105) x_005                          0.000176\n",
      "106) x_013                          0.000156\n",
      "107) x_007                          0.000120\n",
      "108) x_017                          0.000114\n",
      "109) x_039                          0.000109\n",
      "110) x_028                          0.000101\n",
      "111) x_010                          0.000084\n",
      "112) x_022                          0.000061\n",
      "113) x_015                          0.000026\n",
      "114) x_011                          0.000008\n",
      "115) x_008                          0.000000\n",
      "116) x_019                          0.000000\n",
      "117) x_012                          0.000000\n"
     ]
    },
    {
     "data": {
      "image/png": "[encoded data removed]",
      "text/plain": [
       "<matplotlib.figure.Figure at 0x121d80f0>"
      ]
     },
     "metadata": {},
     "output_type": "display_data"
    }
   ],
   "source": [
    "from sklearn.ensemble import RandomForestClassifier\n",
    "\n",
    "feat_labels = clean_data.columns[1:]\n",
    "\n",
    "forest = RandomForestClassifier(n_estimators=500, min_samples_split=5,min_samples_leaf =2,\n",
    "                                max_features = 'log2',n_jobs=4,criterion='gini')\n",
    "\n",
    "forest.fit(X_resample, y_resample)\n",
    "importances = forest.feature_importances_\n",
    "\n",
    "\n",
    "\n",
    "indices = np.argsort(importances)[::-1]\n",
    "\n",
    "for f in range(X_train.shape[1]):\n",
    "    print(\"%2d) %-*s %f\" % (f + 1, 30, \n",
    "                            feat_labels[indices[f]], \n",
    "                            importances[indices[f]]))\n",
    "\n",
    "plt.title('Feature Importance')\n",
    "plt.bar(range(X_resample.shape[1]), \n",
    "        importances[indices],\n",
    "        align='center')\n",
    "\n",
    "plt.xticks(range(X_resample.shape[1]), \n",
    "           feat_labels[indices], rotation=90)\n",
    "plt.xlim([-1, X_resample.shape[1]])\n",
    "plt.tight_layout()\n",
    "plt.savefig('/features_selection.png', dpi=300)\n",
    "plt.show()\n"
   ]
  },
  {
   "cell_type": "markdown",
   "metadata": {},
   "source": [
    "## Models\n",
    "* Logistic regression\n",
    "* SVM\n",
    "* RandomForest\n",
    "    * RandomForestClassifier\n",
    "    * GradientBoostingClassifier\n",
    "* Deep Neural Network"
   ]
  },
  {
   "cell_type": "markdown",
   "metadata": {},
   "source": [
    "### Model valuation\n",
    "* Visualization: Confusion matrices and AUC curves\n",
    "* f1 score"
   ]
  },
  {
   "cell_type": "code",
   "execution_count": 65,
   "metadata": {
    "collapsed": true
   },
   "outputs": [],
   "source": [
    "import itertools\n",
    "from sklearn.metrics import roc_curve, auc, roc_auc_score, log_loss, accuracy_score, confusion_matrix,f1_score\n",
    "\n",
    "def plot_cm(ax, y_true, y_pred, classes, title, th=0.5, cmap=plt.cm.Blues):\n",
    "    y_pred_labels = (y_pred>th).astype(int)\n",
    "    \n",
    "    cm = confusion_matrix(y_true, y_pred_labels)\n",
    "    \n",
    "    im = ax.imshow(cm, interpolation='nearest', cmap=cmap)\n",
    "    ax.set_title(title)\n",
    "\n",
    "    tick_marks = np.arange(len(classes))\n",
    "    ax.set_xticks(tick_marks)\n",
    "    ax.set_yticks(tick_marks)\n",
    "    ax.set_xticklabels(classes)\n",
    "    ax.set_yticklabels(classes)\n",
    "\n",
    "    thresh = cm.max() / 2.\n",
    "    for i, j in itertools.product(range(cm.shape[0]), range(cm.shape[1])):\n",
    "        ax.text(j, i, cm[i, j],\n",
    "                 horizontalalignment=\"center\",\n",
    "                 color=\"white\" if cm[i, j] > thresh else \"black\")\n",
    "    ax.set_ylabel('True label')\n",
    "    ax.set_xlabel('Predicted label')\n",
    "\n",
    "def plot_auc(ax, y_train, y_train_pred, y_test, y_test_pred, th=0.5):\n",
    "\n",
    "    y_train_pred_labels = (y_train_pred>th).astype(int)\n",
    "    y_test_pred_labels  = (y_test_pred>th).astype(int)\n",
    "\n",
    "    fpr_train, tpr_train, _ = roc_curve(y_train,y_train_pred)\n",
    "    roc_auc_train = auc(fpr_train, tpr_train)\n",
    "    acc_train = accuracy_score(y_train, y_train_pred_labels)\n",
    "\n",
    "    fpr_test, tpr_test, _ = roc_curve(y_test,y_test_pred)\n",
    "    roc_auc_test = auc(fpr_test, tpr_test)\n",
    "    acc_test = accuracy_score(y_test, y_test_pred_labels)\n",
    "\n",
    "    ax.plot(fpr_train, tpr_train)\n",
    "    ax.plot(fpr_test, tpr_test)\n",
    "\n",
    "    ax.plot([0, 1], [0, 1], 'k--')\n",
    "\n",
    "    ax.set_xlim([0.0, 1.0])\n",
    "    ax.set_ylim([0.0, 1.05])\n",
    "    ax.set_xlabel('False Positive Rate')\n",
    "    ax.set_ylabel('True Positive Rate')\n",
    "    ax.set_title('ROC curve')\n",
    "    \n",
    "    train_text = 'train acc = {:.3f}, auc = {:.2f}'.format(acc_train, roc_auc_train)\n",
    "    test_text = 'test acc = {:.3f}, auc = {:.2f}'.format(acc_test, roc_auc_test)\n",
    "    ax.legend([train_text, test_text])\n",
    "def result_analyse(est,threshold,X_train,X_test,y_train,y_test):\n",
    "    y_train_pred = est.predict_proba(X_train)[:,1]\n",
    "    y_test_pred = est.predict_proba(X_test)[:,1]\n",
    "\n",
    "\n",
    "    fig,ax = plt.subplots(1,3)\n",
    "    fig.set_size_inches(15,5)\n",
    "\n",
    "    plot_cm(ax[0],  y_train, y_train_pred, [0,1], 'Confusion matrix (TRAIN)', threshold)\n",
    "    plot_cm(ax[1],  y_test, y_test_pred,   [0,1], 'Confusion matrix (TEST)', threshold)\n",
    "    plot_auc(ax[2], y_train, y_train_pred, y_test, y_test_pred, threshold)\n",
    "    \n",
    "    plt.tight_layout()\n",
    "    plt.show()\n",
    "\n"
   ]
  },
  {
   "cell_type": "markdown",
   "metadata": {},
   "source": [
    "### F1 score \n",
    "* this value is required by the competition, teams are ranked by F1 score\n",
    "* F1 score is sensitive to the threshold of probability, so, here I define a function to select relative best threshold to serve as the threshold test data\n",
    "    *  I will select the average threshold which 5 continue f1 score is maximum"
   ]
  },
  {
   "cell_type": "code",
   "execution_count": 58,
   "metadata": {
    "collapsed": false
   },
   "outputs": [],
   "source": [
    "from sklearn.metrics import accuracy_score,f1_score\n",
    "#est learning estimator\n",
    "def best_threshold_f1_score(est,X_test,y_test):\n",
    "    thresholds = np.linspace(0.2,0.8,200)\n",
    "    y_test_pred = est.predict_proba(X_test)[:,1]\n",
    "    score_set = []\n",
    "    index_threshold = 0\n",
    "    sum_score = 0\n",
    "    for threshold in thresholds:\n",
    "        y_test_pred1  = (y_test_pred > threshold).astype(int)\n",
    "        score = f1_score(y_test, y_test_pred1)\n",
    "        score_set.append(score)\n",
    "    for i in range(195):\n",
    "        temp = sum(score_set[i:i+5])\n",
    "        if temp > sum_score:\n",
    "            sum_score = temp\n",
    "            index_threshold = i+2 # the average threshold\n",
    "    \n",
    "    return thresholds[index_threshold],sum_score/5\n",
    "\n",
    "def test_f1_score(est,best_threshold,X_test,y_test):\n",
    "    y_test_pred = regr.predict_proba(X_test)[:,1]\n",
    "    y_test_pred1  = (y_test_pred > best_threshold).astype(int)\n",
    "    score = f1_score(y_test, y_test_pred1)\n",
    "    return score\n",
    "    "
   ]
  },
  {
   "cell_type": "markdown",
   "metadata": {},
   "source": [
    "#### Logistic regression"
   ]
  },
  {
   "cell_type": "code",
   "execution_count": 37,
   "metadata": {
    "collapsed": false
   },
   "outputs": [
    {
     "data": {
      "text/plain": [
       "LogisticRegression(C=100.0, class_weight=None, dual=False, fit_intercept=True,\n",
       "          intercept_scaling=1, max_iter=100, multi_class='ovr', n_jobs=1,\n",
       "          penalty='l2', random_state=0, solver='liblinear', tol=0.0001,\n",
       "          verbose=0, warm_start=False)"
      ]
     },
     "execution_count": 37,
     "metadata": {},
     "output_type": "execute_result"
    }
   ],
   "source": [
    "from sklearn.linear_model import LogisticRegression\n",
    "# Create logistic regression object\n",
    "regr = LogisticRegression(penalty='l2', C=10.**2, random_state=0)\n",
    "\n",
    "# Train the model using the training sets\n",
    "regr.fit(X_resample, y_resample)"
   ]
  },
  {
   "cell_type": "markdown",
   "metadata": {},
   "source": [
    "#### Result Analyse\n",
    "* train and test f1 score\n",
    "* train and test confusion matrix\n",
    "* ROC curve"
   ]
  },
  {
   "cell_type": "code",
   "execution_count": 76,
   "metadata": {
    "collapsed": false
   },
   "outputs": [
    {
     "name": "stdout",
     "output_type": "stream",
     "text": [
      "('test f1 score:', 0.46973012399708236, 'train f1 score:', 0.8937508456054513)\n"
     ]
    },
    {
     "data": {
      "image/png": "[encoded data removed]",
      "text/plain": [
       "<matplotlib.figure.Figure at 0x19393470>"
      ]
     },
     "metadata": {},
     "output_type": "display_data"
    }
   ],
   "source": [
    "best_threshold,best_f1_score = best_threshold_f1_score(regr,X_resample,y_resample)\n",
    "test_f1 = test_f1_score(regr,best_threshold,X_test,y_test)\n",
    "print('test f1 score:',test_f1,'train f1 score:',best_f1_score)\n",
    "result_analyse(regr,best_threshold,X_resample,X_test,y_resample,y_test)"
   ]
  },
  {
   "cell_type": "markdown",
   "metadata": {},
   "source": [
    "### SVM"
   ]
  },
  {
   "cell_type": "code",
   "execution_count": 80,
   "metadata": {
    "collapsed": false
   },
   "outputs": [
    {
     "data": {
      "text/plain": [
       "SVC(C=10, cache_size=200, class_weight=None, coef0=0.0,\n",
       "  decision_function_shape='ovr', degree=3, gamma='auto', kernel='rbf',\n",
       "  max_iter=-1, probability=True, random_state=None, shrinking=True,\n",
       "  tol=0.001, verbose=False)"
      ]
     },
     "execution_count": 80,
     "metadata": {},
     "output_type": "execute_result"
    }
   ],
   "source": [
    "from sklearn import svm\n",
    "sm = svm.SVC(kernel='rbf', C=10,probability=True)\n",
    "sm.fit(X_resample, y_resample)"
   ]
  },
  {
   "cell_type": "code",
   "execution_count": 81,
   "metadata": {
    "collapsed": false
   },
   "outputs": [
    {
     "name": "stdout",
     "output_type": "stream",
     "text": [
      "('test f1 score:', 0.47611827141774066, 'train f1 score:', 0.980271692042356)\n"
     ]
    },
    {
     "data": {
      "image/png": "[encoded data removed]",
      "text/plain": [
       "<matplotlib.figure.Figure at 0x1903b750>"
      ]
     },
     "metadata": {},
     "output_type": "display_data"
    }
   ],
   "source": [
    "best_threshold,best_f1_score = best_threshold_f1_score(sm,X_resample,y_resample)\n",
    "test_f1 = test_f1_score(sm,best_threshold,X_test,y_test)\n",
    "print('test f1 score:',test_f1,'train f1 score:',best_f1_score)\n",
    "result_analyse(sm,best_threshold,X_resample,X_test,y_resample,y_test)"
   ]
  },
  {
   "cell_type": "markdown",
   "metadata": {},
   "source": [
    "#### Random Forest \n",
    "bootstrap aggregating ensamble of decision trees"
   ]
  },
  {
   "cell_type": "code",
   "execution_count": 82,
   "metadata": {
    "collapsed": false
   },
   "outputs": [
    {
     "data": {
      "text/plain": [
       "RandomForestClassifier(bootstrap=True, class_weight=None, criterion='gini',\n",
       "            max_depth=None, max_features='log2', max_leaf_nodes=None,\n",
       "            min_impurity_decrease=0.0, min_impurity_split=None,\n",
       "            min_samples_leaf=2, min_samples_split=5,\n",
       "            min_weight_fraction_leaf=0.0, n_estimators=500, n_jobs=4,\n",
       "            oob_score=False, random_state=None, verbose=0,\n",
       "            warm_start=False)"
      ]
     },
     "execution_count": 82,
     "metadata": {},
     "output_type": "execute_result"
    }
   ],
   "source": [
    "from sklearn.ensemble import RandomForestClassifier\n",
    "import warnings\n",
    "warnings.filterwarnings(\"ignore\")\n",
    "rf = RandomForestClassifier(n_estimators=500, min_samples_split=5,min_samples_leaf =2,max_features = 'log2',n_jobs=4,criterion='gini')\n",
    "rf.fit(X_resample, y_resample)"
   ]
  },
  {
   "cell_type": "code",
   "execution_count": 83,
   "metadata": {
    "collapsed": false
   },
   "outputs": [
    {
     "name": "stdout",
     "output_type": "stream",
     "text": [
      "('test f1 score:', 0.47684130599848135, 'train f1 score:', 0.9958527334136364)\n"
     ]
    },
    {
     "data": {
      "image/png": "[encoded data removed]",
      "text/plain": [
       "<matplotlib.figure.Figure at 0x121a3a50>"
      ]
     },
     "metadata": {},
     "output_type": "display_data"
    }
   ],
   "source": [
    "best_threshold,best_f1_score = best_threshold_f1_score(rf,X_resample,y_resample)\n",
    "test_f1 = test_f1_score(rf,best_threshold,X_test,y_test)\n",
    "print('test f1 score:',test_f1,'train f1 score:',best_f1_score)\n",
    "result_analyse(rf,best_threshold,X_resample,X_test,y_resample,y_test)"
   ]
  },
  {
   "cell_type": "markdown",
   "metadata": {},
   "source": [
    "### GradientBoostingClassifier"
   ]
  },
  {
   "cell_type": "code",
   "execution_count": 84,
   "metadata": {
    "collapsed": false
   },
   "outputs": [
    {
     "data": {
      "text/plain": [
       "GradientBoostingClassifier(criterion='friedman_mse', init=None,\n",
       "              learning_rate=0.1, loss='deviance', max_depth=3,\n",
       "              max_features='log2', max_leaf_nodes=None,\n",
       "              min_impurity_decrease=0.0, min_impurity_split=None,\n",
       "              min_samples_leaf=1, min_samples_split=2,\n",
       "              min_weight_fraction_leaf=0.0, n_estimators=500,\n",
       "              presort='auto', random_state=None, subsample=1, verbose=0,\n",
       "              warm_start=False)"
      ]
     },
     "execution_count": 84,
     "metadata": {},
     "output_type": "execute_result"
    }
   ],
   "source": [
    "\n",
    "from sklearn.ensemble import GradientBoostingClassifier\n",
    "gbdt=GradientBoostingClassifier(\n",
    "  loss='deviance'\n",
    ", learning_rate=0.1\n",
    ", n_estimators=500\n",
    ", subsample=1\n",
    ", min_samples_split=2\n",
    ", min_samples_leaf=1\n",
    ", max_depth=3\n",
    ", init=None\n",
    ", random_state=None\n",
    ", max_features='log2'\n",
    ", verbose=0\n",
    ", max_leaf_nodes=None\n",
    ", warm_start=False)\n",
    "\n",
    "gbdt.fit(X_resample,y_resample)\n",
    "\n"
   ]
  },
  {
   "cell_type": "code",
   "execution_count": 85,
   "metadata": {
    "collapsed": false
   },
   "outputs": [
    {
     "name": "stdout",
     "output_type": "stream",
     "text": [
      "('test f1 score:', 0.471976401179941, 'train f1 score:', 0.9670476514398978)\n"
     ]
    },
    {
     "data": {
      "image/png": "[encoded data removed]",
      "text/plain": [
       "<matplotlib.figure.Figure at 0x18837d90>"
      ]
     },
     "metadata": {},
     "output_type": "display_data"
    }
   ],
   "source": [
    "best_threshold,best_f1_score = best_threshold_f1_score(gbdt,X_resample,y_resample)\n",
    "test_f1 = test_f1_score(gbdt,best_threshold,X_test,y_test)\n",
    "print('test f1 score:',test_f1,'train f1 score:',best_f1_score)\n",
    "result_analyse(gbdt,best_threshold,X_resample,X_test,y_resample,y_test)"
   ]
  },
  {
   "cell_type": "markdown",
   "metadata": {},
   "source": [
    "### Deep Neural Network"
   ]
  },
  {
   "cell_type": "code",
   "execution_count": 88,
   "metadata": {
    "collapsed": false
   },
   "outputs": [
    {
     "data": {
      "text/plain": [
       "117"
      ]
     },
     "execution_count": 88,
     "metadata": {},
     "output_type": "execute_result"
    }
   ],
   "source": []
  },
  {
   "cell_type": "code",
   "execution_count": null,
   "metadata": {
    "collapsed": false
   },
   "outputs": [],
   "source": [
    "from __future__ import print_function\n",
    "import numpy as np\n",
    "import pandas as pd\n",
    "import matplotlib\n",
    "matplotlib.use('Agg')\n",
    "import matplotlib.pyplot as plt\n",
    "from keras.models import Sequential\n",
    "from keras.layers import Dense, Dropout\n",
    "from keras.layers import SReLU\n",
    "from keras.callbacks import BaseLogger, EarlyStopping, ReduceLROnPlateau, TensorBoard\n",
    "from sklearn.preprocessing import StandardScaler\n",
    "from sklearn.utils import compute_class_weight\n",
    "from sklearn.model_selection import StratifiedKFold\n",
    "from sklearn.metrics import classification_report, roc_curve, auc, precision_recall_curve,f1_score\n",
    "import os\n",
    "\n",
    "# Reproducible random seed\n",
    "seed = 1\n",
    "\n",
    "# Create the output directories, if they don't exist\n",
    "try:\n",
    "    os.makedirs(\"logs\")\n",
    "except OSError:\n",
    "    if not os.path.isdir(\"logs\"):\n",
    "        raise\n",
    "\n",
    "try:\n",
    "    os.makedirs(\"figs\")\n",
    "except OSError:\n",
    "    if not os.path.isdir(\"figs\"):\n",
    "        raise\n",
    "\n",
    "\n",
    "X = X_resample\n",
    "Y = y_resample\n",
    "\n",
    "# Estimate class weights since the dataset is unbalanced\n",
    "class_weights = dict(zip([0, 1], compute_class_weight('balanced', [0, 1], Y)))\n",
    "\n",
    "# Create train/test indices to split data in train/test sets\n",
    "kfold = StratifiedKFold(n_splits=5, shuffle=True, random_state=seed)\n",
    "\n",
    "\n",
    "# Define a model generator\n",
    "def generate_model():\n",
    "    _model = Sequential()\n",
    "    _model.add(Dense(22, input_dim=X_resample.shape[1]))\n",
    "    _model.add(SReLU())\n",
    "    _model.add(Dropout(0.2))\n",
    "    _model.add(Dense(1, activation='sigmoid'))\n",
    "    _model.compile(loss='binary_crossentropy', optimizer='adam')\n",
    "    return _model\n",
    "\n",
    "\n",
    "# Storage\n",
    "k = 0\n",
    "predictions = np.empty([len(Y), kfold.n_splits])\n",
    "for train, test in kfold.split(X, Y):\n",
    "    # Define model\n",
    "    model = generate_model()\n",
    "    # Fit the model\n",
    "    history = model.fit(X[train], Y[train],\n",
    "                        batch_size=1200,\n",
    "                        nb_epoch=5,\n",
    "                        verbose=1,\n",
    "                        shuffle=True,\n",
    "                        validation_data=(X[test], Y[test]),\n",
    "                        class_weight=class_weights)\n",
    "                        #callbacks=[baselogger, earlystop, reduce_lr])\n",
    "    # Store the predicted probabilities and iterate k\n",
    "    predictions[train, k] = model.predict_proba(X[train]).flatten()\n",
    "    k += 1\n",
    "\n",
    "# Average the model predictions\n",
    "yhat = np.nanmean(predictions, axis=1).round().astype(int)\n",
    "\n",
    "# Performance\n",
    "print(classification_report(Y, yhat))\n",
    "print(pd.crosstab(Y, yhat.flatten(), rownames=['Truth'], colnames=['Predictions']))\n",
    "\n",
    "fpr, tpr, thresholds = roc_curve(Y, yhat)\n",
    "precision, recall, thresholds = precision_recall_curve(Y, yhat)\n",
    "f1 = f1_score(Y, yhat)\n",
    "roc_auc = auc(fpr, tpr)\n",
    "\n",
    "plt.title('Receiver Operating Characteristic')\n",
    "plt.plot(fpr, tpr, 'b', label='AUC = %0.2f'% roc_auc)\n",
    "plt.legend(loc='lower right')\n",
    "plt.plot([0,1],[0,1],'r--')\n",
    "plt.xlim([0.,1.])\n",
    "plt.ylim([0.,1.])\n",
    "plt.ylabel('True Positive Rate')\n",
    "plt.xlabel('False Positive Rate')\n",
    "plt.savefig(\"figs/ROC.png\")\n",
    "\n",
    "plt.clf()\n",
    "plt.title('Precision Recall Curve')\n",
    "plt.plot(recall, precision, 'b')\n",
    "plt.xlim([0.,1.])\n",
    "plt.ylim([0.,1.])\n",
    "plt.ylabel('Precision')\n",
    "plt.xlabel('Recall')\n",
    "plt.savefig(\"figs/precision-recall.png\")\n"
   ]
  },
  {
   "cell_type": "code",
   "execution_count": null,
   "metadata": {
    "collapsed": false
   },
   "outputs": [],
   "source": [
    "from sklearn.ensemble import RandomForestClassifier\n",
    "from sklearn.metrics import accuracy_score,f1_score\n",
    "from sklearn.model_selection import cross_val_score\n",
    "from sklearn.model_selection import StratifiedKFold\n",
    "\n",
    "kfold = StratifiedKFold(n_splits=10,shuffle=True).split(X_train,y_train)\n",
    "\n",
    "forest = RandomForestClassifier(n_estimators=500, min_samples_split=5,min_samples_leaf =2,\n",
    "                                max_features = 'log2',n_jobs=4,criterion='gini')\n",
    "\n",
    "scores = []\n",
    "for k, (train, test) in enumerate(kfold):\n",
    "    X_train_train,y_train_train = data_resample(X_train[train],y_train[train])\n",
    "    forest.fit(X_train_train,y_train_train)\n",
    "    y_test_pred = forest.predict(X_train[test])\n",
    "    score = f1_score(y_train[test],y_test_pred)\n",
    "    scores.append(score)\n",
    "    "
   ]
  },
  {
   "cell_type": "code",
   "execution_count": null,
   "metadata": {
    "collapsed": false
   },
   "outputs": [],
   "source": [
    "x_num_f1 = {}\n",
    "for x_num in range(20,150):\n",
    "\n",
    "    indices = np.argsort(importances)[x_num:]\n",
    "\n",
    "    X_train1 = X_train[:,indices]\n",
    "    verify_X_test_prep1 = verify_X_test_prep[:,indices]\n",
    "    rf = RandomForestClassifier(n_estimators=500, min_samples_split=5,min_samples_leaf =2,max_features = 'log2',n_jobs=4,criterion='gini')\n",
    "    rf.fit(X_train1,y_train)\n",
    "    \n",
    "    best_f1_threshold,f1 = f1_score_set(rf,verify_X_test_prep1,real_y)\n",
    "    print x_num,f1\n",
    "    x_num_f1[x_num] = f1"
   ]
  },
  {
   "cell_type": "code",
   "execution_count": 55,
   "metadata": {
    "collapsed": false
   },
   "outputs": [],
   "source": [
    "indices = np.argsort(importances)[199-126:]\n",
    "\n",
    "X_train1 = X_train[:,indices]\n",
    "verify_X_test_prep1 = verify_X_test_prep[:,indices]\n"
   ]
  },
  {
   "cell_type": "code",
   "execution_count": 250,
   "metadata": {
    "collapsed": false
   },
   "outputs": [
    {
     "data": {
      "text/plain": [
       "(10018, 28)"
      ]
     },
     "execution_count": 250,
     "metadata": {},
     "output_type": "execute_result"
    }
   ],
   "source": [
    "X_train1.shape"
   ]
  },
  {
   "cell_type": "code",
   "execution_count": 73,
   "metadata": {
    "collapsed": false
   },
   "outputs": [
    {
     "name": "stdout",
     "output_type": "stream",
     "text": [
      "0.20202020202020204 0.5192927441472321\n"
     ]
    }
   ],
   "source": [
    "best_f1_threshold,f1 = f1_score_set(gbdt,verify_X_test_prep1,real_y)\n",
    "print best_f1_threshold,f1"
   ]
  },
  {
   "cell_type": "code",
   "execution_count": null,
   "metadata": {
    "collapsed": false
   },
   "outputs": [],
   "source": []
  },
  {
   "cell_type": "code",
   "execution_count": null,
   "metadata": {
    "collapsed": false
   },
   "outputs": [],
   "source": [
    "from sklearn.metrics import roc_curve, auc, roc_auc_score, log_loss, accuracy_score\n",
    "\n",
    "threshold = 0.323\n",
    "y_train_pred = rf.predict_proba(X_train)[:,1]\n",
    "y_test_pred = rf.predict_proba(X_test)[:,1]\n",
    "\n",
    "fig,ax = plt.subplots(1,3)\n",
    "fig.set_size_inches(15,5)\n",
    "\n",
    "plot_cm(ax[0],  y_train, y_train_pred, [0,1], 'Confusion matrix (TRAIN)', threshold)\n",
    "plot_cm(ax[1],  y_test, y_test_pred,   [0,1], 'Confusion matrix (TEST)', threshold)\n",
    "plot_auc(ax[2], y_train, y_train_pred, y_test, y_test_pred, threshold)\n",
    "    \n",
    "plt.tight_layout()\n",
    "plt.show()"
   ]
  },
  {
   "cell_type": "markdown",
   "metadata": {
    "collapsed": true
   },
   "source": [
    "### 预测测试集"
   ]
  },
  {
   "cell_type": "code",
   "execution_count": 16,
   "metadata": {
    "collapsed": false
   },
   "outputs": [],
   "source": [
    "threshold = best_f1_threshold\n",
    "verify_y_test_pred = rf.predict_proba(verify_X_test_prep1)[:,1]\n",
    "user_id = verify_sample.loc[:,['user_id']]\n",
    "y_prediction  = (verify_y_test_pred > threshold).astype(int)\n",
    "predict_result = pd.DataFrame(y_prediction,columns=['y_prediction'])\n",
    "predict_result = user_id.join(predict_result)\n",
    "p_y = predict_result['y_prediction'].values\n",
    "real_y = test_result['y'].values"
   ]
  },
  {
   "cell_type": "code",
   "execution_count": 30,
   "metadata": {
    "collapsed": false
   },
   "outputs": [
    {
     "name": "stdout",
     "output_type": "stream",
     "text": [
      "0.49903288201160545\n"
     ]
    }
   ],
   "source": [
    "# 预测结果的f1值\n",
    "score = f1_score(real_y, p_y)\n",
    "print score"
   ]
  },
  {
   "cell_type": "code",
   "execution_count": 47,
   "metadata": {
    "collapsed": false
   },
   "outputs": [],
   "source": []
  },
  {
   "cell_type": "code",
   "execution_count": null,
   "metadata": {
    "collapsed": true
   },
   "outputs": [],
   "source": []
  }
 ],
 "metadata": {
  "anaconda-cloud": {},
  "kernelspec": {
   "display_name": "Python [conda root]",
   "language": "python",
   "name": "conda-root-py"
  },
  "language_info": {
   "codemirror_mode": {
    "name": "ipython",
    "version": 2
   },
   "file_extension": ".py",
   "mimetype": "text/x-python",
   "name": "python",
   "nbconvert_exporter": "python",
   "pygments_lexer": "ipython2",
   "version": "2.7.12"
  }
 },
 "nbformat": 4,
 "nbformat_minor": 2
}
