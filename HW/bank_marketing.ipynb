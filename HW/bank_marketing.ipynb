{
 "cells": [
  {
   "cell_type": "markdown",
   "metadata": {},
   "source": [
    "# Overview"
   ]
  },
  {
   "cell_type": "markdown",
   "metadata": {},
   "source": [
    "- [Dataset describtion](#Dataset-describtion)\n",
    "- [Code description](#Code-description)\n",
    "  - [Import necessary module](#Import-necessary-module)\n",
    "  - [Function Definition](#Function-Definition)\n",
    "- [Load data from csv file](#Load-data-from-csv-file)\n",
    "  - [Convert categorical data to numerical data](#Convert-categorical-data-to-numerical-data)\n",
    "  - [Adjust the special value](#Adjust-the-special-value)\n",
    "  - [Partitioning a dataset into a seperate training and test set](#Partitioning-a-dataset-into-a-seperate-training-and-test-set)\n",
    "- [Normalization and standardization](#Normalization-andstandardization)\n",
    "- [Features Selection](#Features-Selection)\n",
    "  - [Sparse solutions with L2 or L1 regularization](#Sparse-solutions-with-L2-or-L1-regularization)\n",
    "  - [Sequential feature selection algorithms](#Sequential-feature-selection-algorithms)\n",
    "  - [Assessing feature importance with Random Forests](#Assessing-feature-importance-with-Random-Forests)\n",
    "- [Use different ML methods to train the data](#Use-different-ML-methods-to-train-the-data)\n",
    "- [Better model in the same number of features](#Better-model-in-the-same-number-of-features) \n",
    "  - [Model using all the data](#Model-using-all-the-data)\n",
    "  - [Model using only three features](#Model-using-only-three-features)\n",
    "  - [Model using only two features](#Model-using-only-two-features)\n",
    "  - [Model using only the best combined features](#Model-using-only-the-best-combined-features)\n",
    "  - [Plot the results of two features](#Plot-the-results-of-two-features)\n",
    "- [Summary](#Summary)"
   ]
  },
  {
   "cell_type": "markdown",
   "metadata": {},
   "source": [
    "# Dataset describtion\n",
    "# Input variables:\n",
    "\n",
    "## bank client data:\n",
    "   * 1 - age (numeric)\n",
    "   * 2 - job : type of job (categorical: \"admin.\",\"blue-collar\",\"entrepreneur\",\"housemaid\",\"management\",\"retired\",\"self-employed\",\"services\",\"student\",\"technician\",\"unemployed\",\"unknown\")\n",
    "   * 3 - marital : marital status (categorical: \"divorced\",\"married\",\"single\",\"unknown\"; note: \"divorced\" means divorced or widowed)\n",
    "   * 4 - education (categorical: \"basic.4y\",\"basic.6y\",\"basic.9y\",\"high.school\",\"illiterate\",\"professional.course\",\"university.degree\",\"unknown\")\n",
    "   * 5 - default: has credit in default? (categorical: \"no\",\"yes\",\"unknown\")\n",
    "   * 6 - balance: average yearly balance, in euros (numeric)\n",
    "   * 7 - housing: has housing loan? (categorical: \"no\",\"yes\",\"unknown\")\n",
    "   * 8 - loan: has personal loan? (categorical: \"no\",\"yes\",\"unknown\")\n",
    "   \n",
    "## related with the last contact of the current campaign:\n",
    "   * 9 - contact: contact communication type (categorical: \"cellular\",\"telephone\") \n",
    "   * 10 - month: last contact month of year (categorical: \"jan\", \"feb\", \"mar\", ..., \"nov\", \"dec\")\n",
    "   * 11 - day: last contact day of the month (numeric)\n",
    "   * 12 - duration: last contact duration, in seconds (numeric). Important note:  this attribute highly affects the output target (e.g., if duration=0 then y=\"no\"). Yet, the duration is not known before a call is performed. Also, after the end of the call y is obviously known. Thus, this input should only be included for benchmark purposes and should be discarded if the intention is to have a realistic predictive model.\n",
    "   \n",
    "## other attributes:\n",
    "  * 13 - campaign: number of contacts performed during this campaign and for this client (numeric, includes last contact)\n",
    "  * 14 - pdays: number of days that passed by after the client was last contacted from a previous campaign (numeric; 999 means client was not previously contacted)\n",
    "  * 15 - previous: number of contacts performed before this campaign and for this client (numeric)\n",
    "  * 16 - poutcome: outcome of the previous marketing campaign (categorical: \"failure\",\"nonexistent\",\"success\")\n",
    "\n",
    "\n",
    "# Output variable (desired target):\n",
    "  * 17 - y - has the client subscribed a term deposit? (binary: \"yes\",\"no\")"
   ]
  },
  {
   "cell_type": "markdown",
   "metadata": {},
   "source": [
    "# Code description\n",
    "* Python 2.7 is required"
   ]
  },
  {
   "cell_type": "markdown",
   "metadata": {},
   "source": [
    "# Import necessary module"
   ]
  },
  {
   "cell_type": "code",
   "execution_count": 1,
   "metadata": {
    "collapsed": true
   },
   "outputs": [],
   "source": [
    "# import the required Python mudule\n",
    "import pandas as pd\n",
    "import numpy as np\n",
    "import warnings\n",
    "warnings.filterwarnings(\"ignore\")"
   ]
  },
  {
   "cell_type": "markdown",
   "metadata": {},
   "source": [
    "# Function Definition"
   ]
  },
  {
   "cell_type": "code",
   "execution_count": null,
   "metadata": {
    "collapsed": true
   },
   "outputs": [],
   "source": [
    "from matplotlib.colors import ListedColormap\n",
    "import matplotlib.pyplot as plt\n",
    "\n",
    "\n",
    "def plot_decision_regions(X, y, classifier, test_idx=None, resolution=0.02):\n",
    "\n",
    "    # setup marker generator and color map\n",
    "    markers = ('s', 'x', 'o', '^', 'v')\n",
    "    colors = ('red', 'blue', 'lightgreen', 'gray', 'cyan')\n",
    "    cmap = ListedColormap(colors[:len(np.unique(y))])\n",
    "\n",
    "    # plot the decision surface\n",
    "    x1_min, x1_max = X[:, 0].min() - 1, X[:, 0].max() + 1\n",
    "    x2_min, x2_max = X[:, 1].min() - 1, X[:, 1].max() + 1\n",
    "    xx1, xx2 = np.meshgrid(np.arange(x1_min, x1_max, resolution),\n",
    "                           np.arange(x2_min, x2_max, resolution))\n",
    "    Z = classifier.predict(np.array([xx1.ravel(), xx2.ravel()]).T)\n",
    "    Z = Z.reshape(xx1.shape)\n",
    "    plt.contourf(xx1, xx2, Z, alpha=0.3, cmap=cmap)\n",
    "    plt.xlim(xx1.min(), xx1.max())\n",
    "    plt.ylim(xx2.min(), xx2.max())\n",
    "\n",
    "    for idx, cl in enumerate(np.unique(y)):\n",
    "        plt.scatter(x=X[y == cl, 0], \n",
    "                    y=X[y == cl, 1],\n",
    "                    alpha=0.8, \n",
    "                    c=colors[idx],\n",
    "                    marker=markers[idx], \n",
    "                    label=cl, \n",
    "                    edgecolor='black')\n",
    "\n",
    "    # highlight test samples\n",
    "    if test_idx:\n",
    "        # plot all samples\n",
    "        X_test, y_test = X[test_idx, :], y[test_idx]\n",
    "\n",
    "        plt.scatter(X_test[:, 0],\n",
    "                    X_test[:, 1],\n",
    "                    c='',\n",
    "                    edgecolor='black',\n",
    "                    alpha=1.0,\n",
    "                    linewidth=1,\n",
    "                    marker='o',\n",
    "                    s=100, \n",
    "                    label='test set')"
   ]
  },
  {
   "cell_type": "markdown",
   "metadata": {},
   "source": [
    "# Load data from csv file"
   ]
  },
  {
   "cell_type": "code",
   "execution_count": 2,
   "metadata": {
    "collapsed": false
   },
   "outputs": [
    {
     "data": {
      "text/html": [
       "<div>\n",
       "<style scoped>\n",
       "    .dataframe tbody tr th:only-of-type {\n",
       "        vertical-align: middle;\n",
       "    }\n",
       "\n",
       "    .dataframe tbody tr th {\n",
       "        vertical-align: top;\n",
       "    }\n",
       "\n",
       "    .dataframe thead th {\n",
       "        text-align: right;\n",
       "    }\n",
       "</style>\n",
       "<table border=\"1\" class=\"dataframe\">\n",
       "  <thead>\n",
       "    <tr style=\"text-align: right;\">\n",
       "      <th></th>\n",
       "      <th>age</th>\n",
       "      <th>job</th>\n",
       "      <th>marital</th>\n",
       "      <th>education</th>\n",
       "      <th>default</th>\n",
       "      <th>balance</th>\n",
       "      <th>housing</th>\n",
       "      <th>loan</th>\n",
       "      <th>contact</th>\n",
       "      <th>day</th>\n",
       "      <th>month</th>\n",
       "      <th>duration</th>\n",
       "      <th>campaign</th>\n",
       "      <th>pdays</th>\n",
       "      <th>previous</th>\n",
       "      <th>poutcome</th>\n",
       "      <th>y</th>\n",
       "    </tr>\n",
       "  </thead>\n",
       "  <tbody>\n",
       "    <tr>\n",
       "      <th>0</th>\n",
       "      <td>30</td>\n",
       "      <td>unemployed</td>\n",
       "      <td>married</td>\n",
       "      <td>primary</td>\n",
       "      <td>no</td>\n",
       "      <td>1787</td>\n",
       "      <td>no</td>\n",
       "      <td>no</td>\n",
       "      <td>cellular</td>\n",
       "      <td>19</td>\n",
       "      <td>oct</td>\n",
       "      <td>79</td>\n",
       "      <td>1</td>\n",
       "      <td>-1</td>\n",
       "      <td>0</td>\n",
       "      <td>unknown</td>\n",
       "      <td>no</td>\n",
       "    </tr>\n",
       "    <tr>\n",
       "      <th>1</th>\n",
       "      <td>33</td>\n",
       "      <td>services</td>\n",
       "      <td>married</td>\n",
       "      <td>secondary</td>\n",
       "      <td>no</td>\n",
       "      <td>4789</td>\n",
       "      <td>yes</td>\n",
       "      <td>yes</td>\n",
       "      <td>cellular</td>\n",
       "      <td>11</td>\n",
       "      <td>may</td>\n",
       "      <td>220</td>\n",
       "      <td>1</td>\n",
       "      <td>339</td>\n",
       "      <td>4</td>\n",
       "      <td>failure</td>\n",
       "      <td>no</td>\n",
       "    </tr>\n",
       "    <tr>\n",
       "      <th>2</th>\n",
       "      <td>35</td>\n",
       "      <td>management</td>\n",
       "      <td>single</td>\n",
       "      <td>tertiary</td>\n",
       "      <td>no</td>\n",
       "      <td>1350</td>\n",
       "      <td>yes</td>\n",
       "      <td>no</td>\n",
       "      <td>cellular</td>\n",
       "      <td>16</td>\n",
       "      <td>apr</td>\n",
       "      <td>185</td>\n",
       "      <td>1</td>\n",
       "      <td>330</td>\n",
       "      <td>1</td>\n",
       "      <td>failure</td>\n",
       "      <td>no</td>\n",
       "    </tr>\n",
       "    <tr>\n",
       "      <th>3</th>\n",
       "      <td>30</td>\n",
       "      <td>management</td>\n",
       "      <td>married</td>\n",
       "      <td>tertiary</td>\n",
       "      <td>no</td>\n",
       "      <td>1476</td>\n",
       "      <td>yes</td>\n",
       "      <td>yes</td>\n",
       "      <td>unknown</td>\n",
       "      <td>3</td>\n",
       "      <td>jun</td>\n",
       "      <td>199</td>\n",
       "      <td>4</td>\n",
       "      <td>-1</td>\n",
       "      <td>0</td>\n",
       "      <td>unknown</td>\n",
       "      <td>no</td>\n",
       "    </tr>\n",
       "    <tr>\n",
       "      <th>4</th>\n",
       "      <td>59</td>\n",
       "      <td>blue-collar</td>\n",
       "      <td>married</td>\n",
       "      <td>secondary</td>\n",
       "      <td>no</td>\n",
       "      <td>0</td>\n",
       "      <td>yes</td>\n",
       "      <td>no</td>\n",
       "      <td>unknown</td>\n",
       "      <td>5</td>\n",
       "      <td>may</td>\n",
       "      <td>226</td>\n",
       "      <td>1</td>\n",
       "      <td>-1</td>\n",
       "      <td>0</td>\n",
       "      <td>unknown</td>\n",
       "      <td>no</td>\n",
       "    </tr>\n",
       "  </tbody>\n",
       "</table>\n",
       "</div>"
      ],
      "text/plain": [
       "   age          job  marital  education default  balance housing loan  \\\n",
       "0   30   unemployed  married    primary      no     1787      no   no   \n",
       "1   33     services  married  secondary      no     4789     yes  yes   \n",
       "2   35   management   single   tertiary      no     1350     yes   no   \n",
       "3   30   management  married   tertiary      no     1476     yes  yes   \n",
       "4   59  blue-collar  married  secondary      no        0     yes   no   \n",
       "\n",
       "    contact  day month  duration  campaign  pdays  previous poutcome   y  \n",
       "0  cellular   19   oct        79         1     -1         0  unknown  no  \n",
       "1  cellular   11   may       220         1    339         4  failure  no  \n",
       "2  cellular   16   apr       185         1    330         1  failure  no  \n",
       "3   unknown    3   jun       199         4     -1         0  unknown  no  \n",
       "4   unknown    5   may       226         1     -1         0  unknown  no  "
      ]
     },
     "execution_count": 2,
     "metadata": {},
     "output_type": "execute_result"
    }
   ],
   "source": [
    "df = pd.read_csv('bank.csv')\n",
    "df.head()"
   ]
  },
  {
   "cell_type": "markdown",
   "metadata": {},
   "source": [
    "## Convert categorical data to numerical data"
   ]
  },
  {
   "cell_type": "code",
   "execution_count": 3,
   "metadata": {
    "collapsed": false
   },
   "outputs": [],
   "source": [
    "# first encode the label data\n",
    "# create a mapping dict\n",
    "# to convert label from strings to integers\n",
    "\n",
    "y_mapping = {label: idx for idx, label in enumerate(np.unique(df['y']))}\n",
    "df['y'] = df['y'].map(y_mapping)\n"
   ]
  },
  {
   "cell_type": "code",
   "execution_count": 4,
   "metadata": {
    "collapsed": false
   },
   "outputs": [],
   "source": [
    "# second convert category data from strings to integers\n",
    "job_mapping = {label: idx for idx, label in enumerate(np.unique(df['job']))}\n",
    "df['job'] = df['job'].map(job_mapping)\n",
    "\n",
    "marital_mapping = {label: idx for idx, label in enumerate(np.unique(df['marital']))}\n",
    "df['marital'] = df['marital'].map(marital_mapping)\n",
    "\n",
    "education_mapping = {label: idx for idx, label in enumerate(np.unique(df['education']))}\n",
    "df['education'] = df['education'].map(education_mapping)\n",
    "\n",
    "default_mapping = {label: idx for idx, label in enumerate(np.unique(df['default']))}\n",
    "df['default'] = df['default'].map(default_mapping)\n",
    "\n",
    "housing_mapping = {label: idx for idx, label in enumerate(np.unique(df['housing']))}\n",
    "df['housing'] = df['housing'].map(housing_mapping)\n",
    "\n",
    "loan_mapping = {label: idx for idx, label in enumerate(np.unique(df['loan']))}\n",
    "df['loan'] = df['loan'].map(loan_mapping)\n",
    "\n",
    "contact_mapping = {label: idx for idx, label in enumerate(np.unique(df['contact']))}\n",
    "df['contact'] = df['contact'].map(contact_mapping)\n",
    "\n",
    "month_mapping = {label: idx for idx, label in enumerate(np.unique(df['month']))}\n",
    "df['month'] = df['month'].map(month_mapping)\n",
    "\n",
    "poutcome_mapping = {label: idx for idx, label in enumerate(np.unique(df['poutcome']))}\n",
    "df['poutcome'] = df['poutcome'].map(poutcome_mapping)\n"
   ]
  },
  {
   "cell_type": "markdown",
   "metadata": {},
   "source": [
    "### Adjust the special value\n",
    "* pdays: -1 means client was not previously contacted\n",
    "* covert -1 to 0"
   ]
  },
  {
   "cell_type": "code",
   "execution_count": 5,
   "metadata": {
    "collapsed": false
   },
   "outputs": [],
   "source": [
    "df.loc[df['pdays'] == -1,'pdays'] = 0"
   ]
  },
  {
   "cell_type": "code",
   "execution_count": 6,
   "metadata": {
    "collapsed": false
   },
   "outputs": [
    {
     "data": {
      "text/html": [
       "<div>\n",
       "<style scoped>\n",
       "    .dataframe tbody tr th:only-of-type {\n",
       "        vertical-align: middle;\n",
       "    }\n",
       "\n",
       "    .dataframe tbody tr th {\n",
       "        vertical-align: top;\n",
       "    }\n",
       "\n",
       "    .dataframe thead th {\n",
       "        text-align: right;\n",
       "    }\n",
       "</style>\n",
       "<table border=\"1\" class=\"dataframe\">\n",
       "  <thead>\n",
       "    <tr style=\"text-align: right;\">\n",
       "      <th></th>\n",
       "      <th>age</th>\n",
       "      <th>job</th>\n",
       "      <th>marital</th>\n",
       "      <th>education</th>\n",
       "      <th>default</th>\n",
       "      <th>balance</th>\n",
       "      <th>housing</th>\n",
       "      <th>loan</th>\n",
       "      <th>contact</th>\n",
       "      <th>day</th>\n",
       "      <th>month</th>\n",
       "      <th>duration</th>\n",
       "      <th>campaign</th>\n",
       "      <th>pdays</th>\n",
       "      <th>previous</th>\n",
       "      <th>poutcome</th>\n",
       "      <th>y</th>\n",
       "    </tr>\n",
       "  </thead>\n",
       "  <tbody>\n",
       "    <tr>\n",
       "      <th>4511</th>\n",
       "      <td>46</td>\n",
       "      <td>1</td>\n",
       "      <td>1</td>\n",
       "      <td>1</td>\n",
       "      <td>0</td>\n",
       "      <td>668</td>\n",
       "      <td>1</td>\n",
       "      <td>0</td>\n",
       "      <td>2</td>\n",
       "      <td>15</td>\n",
       "      <td>8</td>\n",
       "      <td>1263</td>\n",
       "      <td>2</td>\n",
       "      <td>0</td>\n",
       "      <td>0</td>\n",
       "      <td>3</td>\n",
       "      <td>1</td>\n",
       "    </tr>\n",
       "    <tr>\n",
       "      <th>4512</th>\n",
       "      <td>40</td>\n",
       "      <td>1</td>\n",
       "      <td>1</td>\n",
       "      <td>1</td>\n",
       "      <td>0</td>\n",
       "      <td>1100</td>\n",
       "      <td>1</td>\n",
       "      <td>0</td>\n",
       "      <td>2</td>\n",
       "      <td>29</td>\n",
       "      <td>8</td>\n",
       "      <td>660</td>\n",
       "      <td>2</td>\n",
       "      <td>0</td>\n",
       "      <td>0</td>\n",
       "      <td>3</td>\n",
       "      <td>0</td>\n",
       "    </tr>\n",
       "    <tr>\n",
       "      <th>4513</th>\n",
       "      <td>49</td>\n",
       "      <td>1</td>\n",
       "      <td>1</td>\n",
       "      <td>1</td>\n",
       "      <td>0</td>\n",
       "      <td>322</td>\n",
       "      <td>0</td>\n",
       "      <td>0</td>\n",
       "      <td>0</td>\n",
       "      <td>14</td>\n",
       "      <td>1</td>\n",
       "      <td>356</td>\n",
       "      <td>2</td>\n",
       "      <td>0</td>\n",
       "      <td>0</td>\n",
       "      <td>3</td>\n",
       "      <td>0</td>\n",
       "    </tr>\n",
       "    <tr>\n",
       "      <th>4514</th>\n",
       "      <td>38</td>\n",
       "      <td>1</td>\n",
       "      <td>1</td>\n",
       "      <td>1</td>\n",
       "      <td>0</td>\n",
       "      <td>1205</td>\n",
       "      <td>1</td>\n",
       "      <td>0</td>\n",
       "      <td>0</td>\n",
       "      <td>20</td>\n",
       "      <td>0</td>\n",
       "      <td>45</td>\n",
       "      <td>4</td>\n",
       "      <td>153</td>\n",
       "      <td>1</td>\n",
       "      <td>0</td>\n",
       "      <td>0</td>\n",
       "    </tr>\n",
       "    <tr>\n",
       "      <th>4515</th>\n",
       "      <td>32</td>\n",
       "      <td>7</td>\n",
       "      <td>2</td>\n",
       "      <td>1</td>\n",
       "      <td>0</td>\n",
       "      <td>473</td>\n",
       "      <td>1</td>\n",
       "      <td>0</td>\n",
       "      <td>0</td>\n",
       "      <td>7</td>\n",
       "      <td>5</td>\n",
       "      <td>624</td>\n",
       "      <td>5</td>\n",
       "      <td>0</td>\n",
       "      <td>0</td>\n",
       "      <td>3</td>\n",
       "      <td>0</td>\n",
       "    </tr>\n",
       "    <tr>\n",
       "      <th>4516</th>\n",
       "      <td>33</td>\n",
       "      <td>7</td>\n",
       "      <td>1</td>\n",
       "      <td>1</td>\n",
       "      <td>0</td>\n",
       "      <td>-333</td>\n",
       "      <td>1</td>\n",
       "      <td>0</td>\n",
       "      <td>0</td>\n",
       "      <td>30</td>\n",
       "      <td>5</td>\n",
       "      <td>329</td>\n",
       "      <td>5</td>\n",
       "      <td>0</td>\n",
       "      <td>0</td>\n",
       "      <td>3</td>\n",
       "      <td>0</td>\n",
       "    </tr>\n",
       "    <tr>\n",
       "      <th>4517</th>\n",
       "      <td>57</td>\n",
       "      <td>6</td>\n",
       "      <td>1</td>\n",
       "      <td>2</td>\n",
       "      <td>1</td>\n",
       "      <td>-3313</td>\n",
       "      <td>1</td>\n",
       "      <td>1</td>\n",
       "      <td>2</td>\n",
       "      <td>9</td>\n",
       "      <td>8</td>\n",
       "      <td>153</td>\n",
       "      <td>1</td>\n",
       "      <td>0</td>\n",
       "      <td>0</td>\n",
       "      <td>3</td>\n",
       "      <td>0</td>\n",
       "    </tr>\n",
       "    <tr>\n",
       "      <th>4518</th>\n",
       "      <td>57</td>\n",
       "      <td>9</td>\n",
       "      <td>1</td>\n",
       "      <td>1</td>\n",
       "      <td>0</td>\n",
       "      <td>295</td>\n",
       "      <td>0</td>\n",
       "      <td>0</td>\n",
       "      <td>0</td>\n",
       "      <td>19</td>\n",
       "      <td>1</td>\n",
       "      <td>151</td>\n",
       "      <td>11</td>\n",
       "      <td>0</td>\n",
       "      <td>0</td>\n",
       "      <td>3</td>\n",
       "      <td>0</td>\n",
       "    </tr>\n",
       "    <tr>\n",
       "      <th>4519</th>\n",
       "      <td>28</td>\n",
       "      <td>1</td>\n",
       "      <td>1</td>\n",
       "      <td>1</td>\n",
       "      <td>0</td>\n",
       "      <td>1137</td>\n",
       "      <td>0</td>\n",
       "      <td>0</td>\n",
       "      <td>0</td>\n",
       "      <td>6</td>\n",
       "      <td>3</td>\n",
       "      <td>129</td>\n",
       "      <td>4</td>\n",
       "      <td>211</td>\n",
       "      <td>3</td>\n",
       "      <td>1</td>\n",
       "      <td>0</td>\n",
       "    </tr>\n",
       "    <tr>\n",
       "      <th>4520</th>\n",
       "      <td>44</td>\n",
       "      <td>2</td>\n",
       "      <td>2</td>\n",
       "      <td>2</td>\n",
       "      <td>0</td>\n",
       "      <td>1136</td>\n",
       "      <td>1</td>\n",
       "      <td>1</td>\n",
       "      <td>0</td>\n",
       "      <td>3</td>\n",
       "      <td>0</td>\n",
       "      <td>345</td>\n",
       "      <td>2</td>\n",
       "      <td>249</td>\n",
       "      <td>7</td>\n",
       "      <td>1</td>\n",
       "      <td>0</td>\n",
       "    </tr>\n",
       "  </tbody>\n",
       "</table>\n",
       "</div>"
      ],
      "text/plain": [
       "      age  job  marital  education  default  balance  housing  loan  contact  \\\n",
       "4511   46    1        1          1        0      668        1     0        2   \n",
       "4512   40    1        1          1        0     1100        1     0        2   \n",
       "4513   49    1        1          1        0      322        0     0        0   \n",
       "4514   38    1        1          1        0     1205        1     0        0   \n",
       "4515   32    7        2          1        0      473        1     0        0   \n",
       "4516   33    7        1          1        0     -333        1     0        0   \n",
       "4517   57    6        1          2        1    -3313        1     1        2   \n",
       "4518   57    9        1          1        0      295        0     0        0   \n",
       "4519   28    1        1          1        0     1137        0     0        0   \n",
       "4520   44    2        2          2        0     1136        1     1        0   \n",
       "\n",
       "      day  month  duration  campaign  pdays  previous  poutcome  y  \n",
       "4511   15      8      1263         2      0         0         3  1  \n",
       "4512   29      8       660         2      0         0         3  0  \n",
       "4513   14      1       356         2      0         0         3  0  \n",
       "4514   20      0        45         4    153         1         0  0  \n",
       "4515    7      5       624         5      0         0         3  0  \n",
       "4516   30      5       329         5      0         0         3  0  \n",
       "4517    9      8       153         1      0         0         3  0  \n",
       "4518   19      1       151        11      0         0         3  0  \n",
       "4519    6      3       129         4    211         3         1  0  \n",
       "4520    3      0       345         2    249         7         1  0  "
      ]
     },
     "execution_count": 6,
     "metadata": {},
     "output_type": "execute_result"
    }
   ],
   "source": [
    "df.tail(10)"
   ]
  },
  {
   "cell_type": "markdown",
   "metadata": {},
   "source": [
    "### Partitioning a dataset into a seperate training and test set"
   ]
  },
  {
   "cell_type": "code",
   "execution_count": 7,
   "metadata": {
    "collapsed": false
   },
   "outputs": [],
   "source": [
    "from sklearn.model_selection import train_test_split\n",
    "\n",
    "X, y = df.iloc[:, :-1].values, df.iloc[:, -1].values\n",
    "\n",
    "X_train, X_test, y_train, y_test =\\\n",
    "    train_test_split(X, y, \n",
    "                     test_size=0.3, \n",
    "                     random_state=0, \n",
    "                     stratify=y)"
   ]
  },
  {
   "cell_type": "markdown",
   "metadata": {},
   "source": [
    "###  Normalization and standardization"
   ]
  },
  {
   "cell_type": "code",
   "execution_count": 8,
   "metadata": {
    "collapsed": true
   },
   "outputs": [],
   "source": [
    "# three diffrent methods\n",
    "#- MinMaxScaler\n",
    "#- StandardScaler N(0,1)\n",
    "#- RobustScaler avoid outliers.\n",
    "\n",
    "#- X_test's standardization should use the mean and std of X_train\n",
    "\n",
    "def MinMaxNorm(X_train,X_test):\n",
    "    from sklearn.preprocessing import MinMaxScaler\n",
    "\n",
    "    mms = MinMaxScaler().fit(X_train)\n",
    "    X_train_norm = mms.transform(X_train)\n",
    "    X_test_norm = mms.transform(X_test)\n",
    "    return X_train_norm,X_test_norm\n",
    "\n",
    "def StdNorm(X_train,X_test):\n",
    "    from sklearn.preprocessing import StandardScaler\n",
    "\n",
    "    stdsc = StandardScaler().fit(X_train)\n",
    "    X_train_std = stdsc.transform(X_train)\n",
    "    X_test_std = stdsc.transform(X_test)\n",
    "    return X_train_std,X_test_std\n",
    "\n",
    "def RobustNorm(X_train,X_test):\n",
    "    from sklearn.preprocessing import RobustScaler\n",
    "\n",
    "    rbs = RobustScaler().fit(X_train)\n",
    "    X_train_std = rbs.transform(X_train)\n",
    "    X_test_std = rbs.transform(X_test)\n",
    "    return X_train_std,X_test_std"
   ]
  },
  {
   "cell_type": "markdown",
   "metadata": {},
   "source": [
    "# Here you can select the function of standardization and normalization"
   ]
  },
  {
   "cell_type": "code",
   "execution_count": 9,
   "metadata": {
    "collapsed": false
   },
   "outputs": [],
   "source": [
    "# get data after standardization and normalization\n",
    "#X_train_std, X_test_std = RobustNorm(X_train, X_test)\n",
    "X_train_std, X_test_std = StdNorm(X_train, X_test)\n",
    "#X_train_std, X_test_std = MinMaxNorm(X_train, X_test)"
   ]
  },
  {
   "cell_type": "markdown",
   "metadata": {},
   "source": [
    "# Features Selection"
   ]
  },
  {
   "cell_type": "markdown",
   "metadata": {},
   "source": [
    "# Sparse solutions with L2 or L1 regularization"
   ]
  },
  {
   "cell_type": "code",
   "execution_count": 10,
   "metadata": {
    "collapsed": false
   },
   "outputs": [
    {
     "data": {
      "image/png": "[encoded data removed]",
      "text/plain": [
       "<matplotlib.figure.Figure at 0xd849e30>"
      ]
     },
     "metadata": {},
     "output_type": "display_data"
    }
   ],
   "source": [
    "from sklearn.linear_model import LogisticRegression\n",
    "import matplotlib.pyplot as plt\n",
    "\n",
    "fig = plt.figure()\n",
    "ax = plt.subplot(111)\n",
    "    \n",
    "colors = ['blue', 'green', 'red', 'cyan', \n",
    "          'magenta', 'yellow', 'black','moccasin' ,\n",
    "          'pink', 'lightgreen', 'lightblue', 'palegreen',\n",
    "          'gray', 'indigo','orange','darkorchid',\n",
    "         'darkslategray','floralwhite','indigo','mediumorchid']\n",
    "\n",
    "weights, params = [], []\n",
    "for c in np.arange(-4., 6.):\n",
    "    lr = LogisticRegression(penalty='l2', C=10.**c, random_state=0)\n",
    "    lr.fit(X_train_std, y_train)\n",
    "    weights.append(lr.coef_[0])\n",
    "    params.append(10**c)\n",
    "\n",
    "weights = np.array(weights)\n",
    "\n",
    "for column, color in zip(range(weights.shape[1]), colors):\n",
    "    plt.plot(params, weights[:, column],\n",
    "             label=df.columns[column],\n",
    "             color=color)\n",
    "plt.axhline(0, color='black', linestyle='--', linewidth=3)\n",
    "plt.xlim([10**(-5), 10**5])\n",
    "plt.ylabel('weight coefficient')\n",
    "plt.xlabel('C')\n",
    "plt.xscale('log')\n",
    "plt.legend(loc='upper left')\n",
    "ax.legend(loc='upper center', \n",
    "          bbox_to_anchor=(1.38, 1.03),\n",
    "          ncol=1, fancybox=True)\n",
    "#plt.savefig('images/04_07.png', dpi=300, \n",
    "#            bbox_inches='tight', pad_inches=0.2)\n",
    "plt.show()"
   ]
  },
  {
   "cell_type": "markdown",
   "metadata": {},
   "source": [
    "# Assessing feature importance with Random Forests"
   ]
  },
  {
   "cell_type": "code",
   "execution_count": 28,
   "metadata": {
    "collapsed": false
   },
   "outputs": [
    {
     "name": "stdout",
     "output_type": "stream",
     "text": [
      " 1) duration                       0.298562\n",
      " 2) balance                        0.108035\n",
      " 3) age                            0.104850\n",
      " 4) day                            0.090323\n",
      " 5) month                          0.080781\n",
      " 6) job                            0.052704\n",
      " 7) pdays                          0.050281\n",
      " 8) poutcome                       0.041758\n",
      " 9) campaign                       0.039676\n",
      "10) education                      0.029596\n",
      "11) marital                        0.025816\n",
      "12) previous                       0.023577\n",
      "13) housing                        0.022064\n",
      "14) contact                        0.020217\n",
      "15) loan                           0.009325\n",
      "16) default                        0.002434\n"
     ]
    },
    {
     "data": {
      "image/png": "[encoded data removed]",
      "text/plain": [
       "<matplotlib.figure.Figure at 0xdb301f0>"
      ]
     },
     "metadata": {},
     "output_type": "display_data"
    }
   ],
   "source": [
    "from sklearn.ensemble import RandomForestClassifier\n",
    "\n",
    "feat_labels = df.columns[0:-1]\n",
    "\n",
    "forest = RandomForestClassifier(n_estimators=500,\n",
    "                                random_state=1)\n",
    "\n",
    "forest.fit(X_train, y_train)\n",
    "importances = forest.feature_importances_\n",
    "\n",
    "indices = np.argsort(importances)[::-1]\n",
    "\n",
    "for f in range(X_train.shape[1]):\n",
    "    print(\"%2d) %-*s %f\" % (f + 1, 30, \n",
    "                            feat_labels[indices[f]], \n",
    "                            importances[indices[f]]))\n",
    "\n",
    "plt.title('Feature Importance')\n",
    "plt.bar(range(X_train.shape[1]), \n",
    "        importances[indices],\n",
    "        align='center')\n",
    "\n",
    "plt.xticks(range(X_train.shape[1]), \n",
    "           feat_labels[indices], rotation=90)\n",
    "plt.xlim([-1, X_train.shape[1]])\n",
    "plt.tight_layout()\n",
    "#plt.savefig('images/04_09.png', dpi=300)\n",
    "plt.show()"
   ]
  },
  {
   "cell_type": "markdown",
   "metadata": {},
   "source": [
    "# Sequential feature selection algorithms\n",
    "* I use Sequential Backward Selection (SBS) to select features\n",
    "* We can outline the algorithm in 4 simple steps:\n",
    "    * Initialize the algorithm with k=d  , where d is the dimensionality of the full feature space X_d .\n",
    "    2. Determine the feature x− that maximizes the criterion x− = argmaxJ (X_k − x ) where x∈X_k .\n",
    "    3. Remove the feature x− from the feature set: X_k – 1 = X_k-1 , = X_x − X,k= k −1.\n",
    "    4. Terminate if k equals the number of desired features, if not, go to step 2."
   ]
  },
  {
   "cell_type": "code",
   "execution_count": 11,
   "metadata": {
    "collapsed": false
   },
   "outputs": [],
   "source": [
    "from sklearn.base import clone\n",
    "from itertools import combinations\n",
    "import numpy as np\n",
    "from sklearn.metrics import accuracy_score\n",
    "from sklearn.model_selection import train_test_split\n",
    "\n",
    "# defination of class of SBS\n",
    "class SBS():\n",
    "    def __init__(self, estimator, k_features,scoring=accuracy_score,\n",
    "                 test_size=0.25, random_state=1):\n",
    "        self.scoring = scoring\n",
    "        self.estimator = clone(estimator)\n",
    "        self.k_features = k_features\n",
    "        self.test_size = test_size\n",
    "        self.random_state = random_state\n",
    "        self.df = df\n",
    "\n",
    "    # self.subsets_ save all the best features under specific # of features\n",
    "    def fit(self, X, y):\n",
    "        \n",
    "        X_train, X_test, y_train, y_test = \\\n",
    "            train_test_split(X, y, test_size=self.test_size,\n",
    "                             random_state=self.random_state)\n",
    "\n",
    "        dim = X_train.shape[1]\n",
    "        self.indices_ = tuple(range(dim))\n",
    "        self.subsets_ = [self.indices_]\n",
    "        score = self._calc_score(X_train, y_train, \n",
    "                                 X_test, y_test, self.indices_)\n",
    "        self.scores_ = [score]\n",
    "\n",
    "        while dim > self.k_features:\n",
    "            \n",
    "            scores = []\n",
    "            subsets = []\n",
    "\n",
    "            for p in combinations(self.indices_, r=dim - 1):\n",
    "                score = self._calc_score(X_train, y_train, \n",
    "                                         X_test, y_test, p)\n",
    "                scores.append(score)\n",
    "                subsets.append(p)\n",
    "            \n",
    "            best = np.argmax(scores)\n",
    "            self.indices_ = subsets[best]\n",
    "            self.subsets_.append(self.indices_)\n",
    "            \n",
    "            self.scores_.append(scores[best])\n",
    "            \n",
    "            print '# of features：',dim\n",
    "            print 'best scores is:',scores[best]\n",
    "            dim -= 1\n",
    "\n",
    "        self.k_score_ = self.scores_[-1]\n",
    "\n",
    "        return self\n",
    "\n",
    "    def transform(self, X):\n",
    "        return X[:, self.indices_]\n",
    "\n",
    "    def _calc_score(self, X_train, y_train, X_test, y_test, indices):\n",
    "        self.estimator.fit(X_train[:, indices], y_train)\n",
    "        y_pred = self.estimator.predict(X_test[:, indices])\n",
    "        score = self.scoring(y_test, y_pred)\n",
    "        return score"
   ]
  },
  {
   "cell_type": "markdown",
   "metadata": {},
   "source": [
    "# Use different ML methods to train the data\n",
    "* LogisticRegression\n",
    "* DecisionTreeClassifier\n",
    "* RandomForestClassifier\n",
    "* MLPClassifier\n",
    "* KNeighborsClassifier\n",
    "* SVM"
   ]
  },
  {
   "cell_type": "code",
   "execution_count": 12,
   "metadata": {
    "collapsed": false
   },
   "outputs": [
    {
     "name": "stdout",
     "output_type": "stream",
     "text": [
      "# of features： 15\n",
      "best scores is: 0.9026548672566371\n",
      "# of features： 14\n",
      "best scores is: 0.9039190897597977\n",
      "# of features： 13\n",
      "best scores is: 0.9026548672566371\n",
      "# of features： 12\n",
      "best scores is: 0.8988621997471555\n",
      "# of features： 11\n",
      "best scores is: 0.9064475347661188\n",
      "# of features： 10\n",
      "best scores is: 0.9026548672566371\n",
      "# of features： 9\n",
      "best scores is: 0.9039190897597977\n",
      "# of features： 8\n",
      "best scores is: 0.9013906447534766\n",
      "# of features： 7\n",
      "best scores is: 0.9026548672566371\n",
      "# of features： 6\n",
      "best scores is: 0.9039190897597977\n",
      "# of features： 5\n",
      "best scores is: 0.9039190897597977\n",
      "# of features： 4\n",
      "best scores is: 0.9039190897597977\n",
      "# of features： 3\n",
      "best scores is: 0.9026548672566371\n",
      "# of features： 2\n",
      "best scores is: 0.9026548672566371\n",
      "# of features： 1\n",
      "best scores is: 0.9039190897597977\n"
     ]
    },
    {
     "data": {
      "image/png": "[encoded data removed]",
      "text/plain": [
       "<matplotlib.figure.Figure at 0x10471570>"
      ]
     },
     "metadata": {},
     "output_type": "display_data"
    }
   ],
   "source": [
    "import matplotlib.pyplot as plt\n",
    "from sklearn.neighbors import KNeighborsClassifier\n",
    "from sklearn.neural_network import MLPClassifier\n",
    "from sklearn.tree import DecisionTreeClassifier\n",
    "from sklearn import svm\n",
    "from sklearn.linear_model import LogisticRegression\n",
    "from sklearn.ensemble import RandomForestClassifier\n",
    "\n",
    "## Here you can select diferent method to do the training\n",
    "\n",
    "#knn = KNeighborsClassifier(n_neighbors=2)\n",
    "#knn = LogisticRegression(penalty='l2', C=10.**2, random_state=0)\n",
    "knn = MLPClassifier(hidden_layer_sizes=(50,50), max_iter=10, alpha=1e-4,\n",
    "                    solver='sgd', activation='relu',verbose=False, tol=1e-4, random_state=1,learning_rate_init=.01)\n",
    "#knn = svm.SVC(kernel='rbf', C=10)\n",
    "#knn = RandomForestClassifier(n_estimators=10,random_state=1)\n",
    "#knn = DecisionTreeClassifier()\n",
    "\n",
    "# selecting features\n",
    "sbs = SBS(knn, k_features=1)\n",
    "sbs.fit(X_train_std, y_train)\n",
    "\n",
    "# plotting performance of feature subsets\n",
    "k_feat = [len(k) for k in sbs.subsets_]\n",
    "\n",
    "plt.plot(k_feat, sbs.scores_, marker='o')\n",
    "plt.ylim([0.7, 1.02])\n",
    "plt.title('best score in different number of features')\n",
    "plt.ylabel('Accuracy')\n",
    "plt.xlabel('Number of features')\n",
    "plt.grid()\n",
    "plt.tight_layout()\n",
    "# plt.savefig('images/04_08.png', dpi=300)\n",
    "plt.show()"
   ]
  },
  {
   "cell_type": "markdown",
   "metadata": {},
   "source": [
    "### List all the best selected features under a certain number of features"
   ]
  },
  {
   "cell_type": "code",
   "execution_count": 13,
   "metadata": {
    "collapsed": false
   },
   "outputs": [
    {
     "name": "stdout",
     "output_type": "stream",
     "text": [
      "When select  16 features, the best features as following\n",
      "['age' 'job' 'marital' 'education' 'default' 'balance' 'housing' 'loan'\n",
      " 'contact' 'day' 'month' 'duration' 'campaign' 'pdays' 'previous'\n",
      " 'poutcome']\n",
      "\n",
      "When select  15 features, the best features as following\n",
      "['job' 'marital' 'education' 'default' 'balance' 'housing' 'loan'\n",
      " 'contact' 'day' 'month' 'duration' 'campaign' 'pdays' 'previous'\n",
      " 'poutcome']\n",
      "\n",
      "When select  14 features, the best features as following\n",
      "['job' 'marital' 'education' 'default' 'balance' 'housing' 'loan' 'day'\n",
      " 'month' 'duration' 'campaign' 'pdays' 'previous' 'poutcome']\n",
      "\n",
      "When select  13 features, the best features as following\n",
      "['job' 'marital' 'education' 'default' 'balance' 'housing' 'loan' 'day'\n",
      " 'month' 'duration' 'campaign' 'pdays' 'poutcome']\n",
      "\n",
      "When select  12 features, the best features as following\n",
      "['job' 'marital' 'education' 'default' 'balance' 'housing' 'loan' 'day'\n",
      " 'month' 'duration' 'campaign' 'poutcome']\n",
      "\n",
      "When select  11 features, the best features as following\n",
      "['job' 'marital' 'default' 'balance' 'housing' 'loan' 'day' 'month'\n",
      " 'duration' 'campaign' 'poutcome']\n",
      "\n",
      "When select  10 features, the best features as following\n",
      "['job' 'marital' 'default' 'balance' 'housing' 'loan' 'day' 'month'\n",
      " 'duration' 'campaign']\n",
      "\n",
      "When select  9 features, the best features as following\n",
      "['marital' 'default' 'balance' 'housing' 'loan' 'day' 'month' 'duration'\n",
      " 'campaign']\n",
      "\n",
      "When select  8 features, the best features as following\n",
      "['marital' 'default' 'balance' 'housing' 'loan' 'day' 'duration'\n",
      " 'campaign']\n",
      "\n",
      "When select  7 features, the best features as following\n",
      "['marital' 'default' 'balance' 'loan' 'day' 'duration' 'campaign']\n",
      "\n",
      "When select  6 features, the best features as following\n",
      "['marital' 'default' 'balance' 'day' 'duration' 'campaign']\n",
      "\n",
      "When select  5 features, the best features as following\n",
      "['marital' 'default' 'balance' 'duration' 'campaign']\n",
      "\n",
      "When select  4 features, the best features as following\n",
      "['marital' 'default' 'balance' 'duration']\n",
      "\n",
      "When select  3 features, the best features as following\n",
      "['marital' 'balance' 'duration']\n",
      "\n",
      "When select  2 features, the best features as following\n",
      "['marital' 'duration']\n",
      "\n",
      "When select  1 features, the best features as following\n",
      "['duration']\n",
      "\n"
     ]
    }
   ],
   "source": [
    "for i in sbs.subsets_:\n",
    "    k = list(i)\n",
    "    print 'When select ',len(k),'features, the best features as following'\n",
    "    print df.columns[0:][k].values\n",
    "    print ''"
   ]
  },
  {
   "cell_type": "markdown",
   "metadata": {},
   "source": [
    "# Better model in the same number of features"
   ]
  },
  {
   "cell_type": "markdown",
   "metadata": {},
   "source": [
    "# Model using all features"
   ]
  },
  {
   "cell_type": "code",
   "execution_count": 14,
   "metadata": {
    "collapsed": false,
    "scrolled": true
   },
   "outputs": [
    {
     "name": "stdout",
     "output_type": "stream",
     "text": [
      "('Training accuracy:', 0.8900126422250316)\n",
      "('Test accuracy:', 0.8887251289609432)\n"
     ]
    }
   ],
   "source": [
    "knn.fit(X_train_std, y_train)\n",
    "print('Training accuracy:', knn.score(X_train_std, y_train))\n",
    "print('Test accuracy:', knn.score(X_test_std, y_test))"
   ]
  },
  {
   "cell_type": "markdown",
   "metadata": {},
   "source": [
    "# Model using only three features"
   ]
  },
  {
   "cell_type": "code",
   "execution_count": 25,
   "metadata": {
    "collapsed": false
   },
   "outputs": [
    {
     "name": "stdout",
     "output_type": "stream",
     "text": [
      "Features: ['marital' 'balance' 'duration']\n",
      "('Training accuracy:', 0.8890644753476612)\n",
      "('Test accuracy:', 0.8843036109064112)\n"
     ]
    }
   ],
   "source": [
    "k3 = list(sbs.subsets_[13])\n",
    "print 'Features:',df.columns[0:][k3].values\n",
    "knn.fit(X_train_std[:, k3], y_train)\n",
    "print('Training accuracy:', knn.score(X_train_std[:, k3], y_train))\n",
    "print('Test accuracy:', knn.score(X_test_std[:, k3], y_test))"
   ]
  },
  {
   "cell_type": "markdown",
   "metadata": {},
   "source": [
    "# Model using only two features"
   ]
  },
  {
   "cell_type": "code",
   "execution_count": 32,
   "metadata": {
    "collapsed": false
   },
   "outputs": [
    {
     "name": "stdout",
     "output_type": "stream",
     "text": [
      "Features: ['marital' 'duration']\n",
      "('Training accuracy:', 0.8890644753476612)\n",
      "('Test accuracy:', 0.8850405305821666)\n"
     ]
    }
   ],
   "source": [
    "k2 = list(sbs.subsets_[14])\n",
    "print 'Features:',df.columns[0:][k2].values\n",
    "knn.fit(X_train_std[:, k2], y_train)\n",
    "print('Training accuracy:', knn.score(X_train_std[:, k2], y_train))\n",
    "print('Test accuracy:', knn.score(X_test_std[:, k2], y_test))"
   ]
  },
  {
   "cell_type": "markdown",
   "metadata": {},
   "source": [
    "# Model using only the best combined features"
   ]
  },
  {
   "cell_type": "code",
   "execution_count": 27,
   "metadata": {
    "collapsed": false
   },
   "outputs": [
    {
     "name": "stdout",
     "output_type": "stream",
     "text": [
      "Features: ['job' 'marital' 'default' 'balance' 'housing' 'loan' 'day' 'month'\n",
      " 'duration' 'campaign' 'poutcome']\n",
      "('Training accuracy:', 0.893173198482933)\n",
      "('Test accuracy:', 0.8857774502579219)\n"
     ]
    }
   ],
   "source": [
    "best_idx = np.argmax(sbs.scores_)\n",
    "k_best = list(sbs.subsets_[best_idx])\n",
    "print 'Features:',df.columns[0:][k_best].values\n",
    "knn.fit(X_train_std[:, k_best], y_train)\n",
    "print('Training accuracy:', knn.score(X_train_std[:, k_best], y_train))\n",
    "print('Test accuracy:', knn.score(X_test_std[:, k_best], y_test))"
   ]
  },
  {
   "cell_type": "markdown",
   "metadata": {},
   "source": [
    "# Plot the results of two features"
   ]
  },
  {
   "cell_type": "code",
   "execution_count": 34,
   "metadata": {
    "collapsed": false
   },
   "outputs": [
    {
     "data": {
      "image/png": "[encoded data removed]",
      "text/plain": [
       "<matplotlib.figure.Figure at 0x10482e50>"
      ]
     },
     "metadata": {},
     "output_type": "display_data"
    }
   ],
   "source": [
    "plot_decision_regions(X_train_std[:, k2], y_train,\n",
    "                      classifier=knn)\n",
    "\n",
    "plt.legend(loc='upper left')\n",
    "plt.tight_layout()\n",
    "#plt.savefig('images/03_14.png', dpi=300)\n",
    "plt.show()"
   ]
  },
  {
   "cell_type": "markdown",
   "metadata": {
    "collapsed": false
   },
   "source": [
    "# Summary"
   ]
  },
  {
   "cell_type": "code",
   "execution_count": 21,
   "metadata": {
    "collapsed": false
   },
   "outputs": [
    {
     "data": {
      "text/plain": [
       "array([[ 0.82940543,  0.1898291 ],\n",
       "       [ 0.82940543, -0.47073968],\n",
       "       [ 0.49726535, -0.11920893],\n",
       "       ...,\n",
       "       [ 0.82940543,  1.28305112],\n",
       "       [-0.83129497, -0.25055009],\n",
       "       [-1.49557513, -0.3278096 ]])"
      ]
     },
     "execution_count": 21,
     "metadata": {},
     "output_type": "execute_result"
    }
   ],
   "source": []
  }
 ],
 "metadata": {
  "anaconda-cloud": {},
  "kernelspec": {
   "display_name": "Python [conda root]",
   "language": "python",
   "name": "conda-root-py"
  },
  "language_info": {
   "codemirror_mode": {
    "name": "ipython",
    "version": 2
   },
   "file_extension": ".py",
   "mimetype": "text/x-python",
   "name": "python",
   "nbconvert_exporter": "python",
   "pygments_lexer": "ipython2",
   "version": "2.7.12"
  }
 },
 "nbformat": 4,
 "nbformat_minor": 1
}
